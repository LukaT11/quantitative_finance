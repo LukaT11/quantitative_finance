{
  "nbformat": 4,
  "nbformat_minor": 0,
  "metadata": {
    "colab": {
      "name": "Statistical Moments - Skewness and Kurtosis.ipynb",
      "version": "0.3.2",
      "provenance": [],
      "include_colab_link": true
    },
    "kernelspec": {
      "name": "python3",
      "display_name": "Python 3"
    }
  },
  "cells": [
    {
      "cell_type": "markdown",
      "metadata": {
        "id": "view-in-github",
        "colab_type": "text"
      },
      "source": [
        "<a href=\"https://colab.research.google.com/github/LukaT11/quantitative_finance/blob/master/Statistical_Moments_Skewness_and_Kurtosis.ipynb\" target=\"_parent\"><img src=\"https://colab.research.google.com/assets/colab-badge.svg\" alt=\"Open In Colab\"/></a>"
      ]
    },
    {
      "cell_type": "markdown",
      "metadata": {
        "id": "jbD_Df_wKgGw",
        "colab_type": "text"
      },
      "source": [
        "# **Statistical Moments - Skewness and Kurtosis**"
      ]
    },
    {
      "cell_type": "code",
      "metadata": {
        "id": "GJ-wd9xKKRoF",
        "colab_type": "code",
        "colab": {}
      },
      "source": [
        "import matplotlib.pyplot as plt\n",
        "import numpy as np\n",
        "import scipy.stats as stats"
      ],
      "execution_count": 0,
      "outputs": []
    },
    {
      "cell_type": "markdown",
      "metadata": {
        "id": "fKsRf2IGLGlk",
        "colab_type": "text"
      },
      "source": [
        "Sometimes mean and variance are not enough to describe a distribution. When we calculate variance, we square the deviations around the mean. In the case of large deviations, we do not know whether they are likely to be positive or negative. This is where the skewness and symmetry of a distribution come in. A distribution is <i>symmetric</i> if the parts on either side of the mean are mirror images of each other. For example, the normal distribution is symmetric. The normal distribution with mean $\\mu$ and standard deviation $\\sigma$ is defined as\n",
        "$$ f(x) = \\frac{1}{\\sigma \\sqrt{2 \\pi}} e^{-\\frac{(x - \\mu)^2}{2 \\sigma^2}} $$\n",
        "We can plot it to confirm that it is symmetric:"
      ]
    },
    {
      "cell_type": "code",
      "metadata": {
        "id": "gR0loaYJKvIW",
        "colab_type": "code",
        "outputId": "e6b02a9f-cf14-4661-b5dc-a7ec23dfd400",
        "colab": {
          "base_uri": "https://localhost:8080/",
          "height": 286
        }
      },
      "source": [
        "# Plot a normal distribution with mean = 0 and standard deviation = 2\n",
        "\n",
        "xs = np.linspace(-6, 6, 300)\n",
        "normal = stats.norm.pdf(xs)\n",
        "plt.plot(xs, normal)"
      ],
      "execution_count": 2,
      "outputs": [
        {
          "output_type": "execute_result",
          "data": {
            "text/plain": [
              "[<matplotlib.lines.Line2D at 0x7fa155edfbe0>]"
            ]
          },
          "metadata": {
            "tags": []
          },
          "execution_count": 2
        },
        {
          "output_type": "display_data",
          "data": {
            "image/png": "[encoded data removed]",
            "text/plain": [
              "<Figure size 432x288 with 1 Axes>"
            ]
          },
          "metadata": {
            "tags": []
          }
        }
      ]
    },
    {
      "cell_type": "markdown",
      "metadata": {
        "id": "aAq2juUSSpkR",
        "colab_type": "text"
      },
      "source": [
        "A distribution which is not symmetric is called <i>skewed</i>. For instance, a distribution can have many small positive and a few large negative values (negatively skewed) or vice versa (positively skewed), and still have a mean of 0. A symmetric distribution has skewness 0. Positively skewed unimodal (one mode) distributions have the property that mean > median > mode. Negatively skewed unimodal distributions are the reverse, with mean < median < mode. All three are equal for a symmetric unimodal distribution.\n",
        "\n",
        "The explicit formula for skewness is:\n",
        "$$ S_K = \\frac{n}{(n-1)(n-2)} \\frac{\\sum_{i=1}^n (X_i - \\mu)^3}{\\sigma^3} $$\n",
        "\n",
        "Where $n$ is the number of observations, $\\mu$ is the arithmetic mean, and $\\sigma$ is the standard deviation. The sign of this quantity describes the direction of the skew as described above. We can plot a positively skewed and a negatively skewed distribution to see what they look like. For unimodal distributions, a negative skew typically indicates that the tail is fatter on the left, while a positive skew indicates that the tail is fatter on the right."
      ]
    },
    {
      "cell_type": "code",
      "metadata": {
        "id": "Lt7b9hkXMw87",
        "colab_type": "code",
        "outputId": "a13faed5-4f96-4301-c7d3-644db417d0ae",
        "colab": {
          "base_uri": "https://localhost:8080/",
          "height": 286
        }
      },
      "source": [
        "# Generate x-values for which we will plot the distribution\n",
        "xs2 = np.linspace(stats.lognorm.ppf(0.01, .7, loc=-.1), stats.lognorm.ppf(0.99, .7, loc=-.1), 150)\n",
        "\n",
        "# Negatively skewed distribution\n",
        "lognormal = stats.lognorm.pdf(xs2, .7)\n",
        "plt.plot(xs2, lognormal, label='Skew > 0')\n",
        "\n",
        "# Positively skewed distribution\n",
        "plt.plot(xs2, lognormal[::-1], label='Skew < 0')\n",
        "plt.legend()"
      ],
      "execution_count": 3,
      "outputs": [
        {
          "output_type": "execute_result",
          "data": {
            "text/plain": [
              "<matplotlib.legend.Legend at 0x7fa1536141d0>"
            ]
          },
          "metadata": {
            "tags": []
          },
          "execution_count": 3
        },
        {
          "output_type": "display_data",
          "data": {
            "image/png": "[encoded data removed]",
            "text/plain": [
              "<Figure size 432x288 with 1 Axes>"
            ]
          },
          "metadata": {
            "tags": []
          }
        }
      ]
    },
    {
      "cell_type": "code",
      "metadata": {
        "id": "prb2NrmMr6PG",
        "colab_type": "code",
        "outputId": "b7166ae9-e4f3-4fef-f997-9b680d6522cf",
        "colab": {
          "base_uri": "https://localhost:8080/",
          "height": 357
        }
      },
      "source": [
        "!pip install quandl"
      ],
      "execution_count": 4,
      "outputs": [
        {
          "output_type": "stream",
          "text": [
            "Requirement already satisfied: quandl in /usr/local/lib/python3.6/dist-packages (3.4.8)\n",
            "Requirement already satisfied: requests>=2.7.0 in /usr/local/lib/python3.6/dist-packages (from quandl) (2.21.0)\n",
            "Requirement already satisfied: ndg-httpsclient in /usr/local/lib/python3.6/dist-packages (from quandl) (0.5.1)\n",
            "Requirement already satisfied: python-dateutil in /usr/local/lib/python3.6/dist-packages (from quandl) (2.5.3)\n",
            "Requirement already satisfied: six in /usr/local/lib/python3.6/dist-packages (from quandl) (1.12.0)\n",
            "Requirement already satisfied: pyOpenSSL in /usr/local/lib/python3.6/dist-packages (from quandl) (19.0.0)\n",
            "Requirement already satisfied: numpy>=1.8 in /usr/local/lib/python3.6/dist-packages (from quandl) (1.16.3)\n",
            "Requirement already satisfied: pyasn1 in /usr/local/lib/python3.6/dist-packages (from quandl) (0.4.5)\n",
            "Requirement already satisfied: inflection>=0.3.1 in /usr/local/lib/python3.6/dist-packages (from quandl) (0.3.1)\n",
            "Requirement already satisfied: more-itertools<=5.0.0 in /usr/local/lib/python3.6/dist-packages (from quandl) (5.0.0)\n",
            "Requirement already satisfied: pandas>=0.14 in /usr/local/lib/python3.6/dist-packages (from quandl) (0.24.2)\n",
            "Requirement already satisfied: chardet<3.1.0,>=3.0.2 in /usr/local/lib/python3.6/dist-packages (from requests>=2.7.0->quandl) (3.0.4)\n",
            "Requirement already satisfied: urllib3<1.25,>=1.21.1 in /usr/local/lib/python3.6/dist-packages (from requests>=2.7.0->quandl) (1.24.3)\n",
            "Requirement already satisfied: idna<2.9,>=2.5 in /usr/local/lib/python3.6/dist-packages (from requests>=2.7.0->quandl) (2.8)\n",
            "Requirement already satisfied: certifi>=2017.4.17 in /usr/local/lib/python3.6/dist-packages (from requests>=2.7.0->quandl) (2019.3.9)\n",
            "Requirement already satisfied: cryptography>=2.3 in /usr/local/lib/python3.6/dist-packages (from pyOpenSSL->quandl) (2.6.1)\n",
            "Requirement already satisfied: pytz>=2011k in /usr/local/lib/python3.6/dist-packages (from pandas>=0.14->quandl) (2018.9)\n",
            "Requirement already satisfied: cffi!=1.11.3,>=1.8 in /usr/local/lib/python3.6/dist-packages (from cryptography>=2.3->pyOpenSSL->quandl) (1.12.3)\n",
            "Requirement already satisfied: asn1crypto>=0.21.0 in /usr/local/lib/python3.6/dist-packages (from cryptography>=2.3->pyOpenSSL->quandl) (0.24.0)\n",
            "Requirement already satisfied: pycparser in /usr/local/lib/python3.6/dist-packages (from cffi!=1.11.3,>=1.8->cryptography>=2.3->pyOpenSSL->quandl) (2.19)\n"
          ],
          "name": "stdout"
        }
      ]
    },
    {
      "cell_type": "code",
      "metadata": {
        "id": "hfT81fSWW9nR",
        "colab_type": "code",
        "colab": {
          "base_uri": "https://localhost:8080/",
          "height": 368
        },
        "outputId": "389c41c2-70e4-47bb-d426-75a4f4725aa4"
      },
      "source": [
        "import quandl\n",
        "\n",
        "start = '2012-01-01'\n",
        "end = '2015-01-01'\n",
        "\n",
        "pricing = quandl.get(\"WIKI/MSFT.4\", start_date=start, end_date=end)\n",
        "returns = pricing.pct_change()[1:]\n",
        "\n",
        "print (f'Skew: {stats.skew(returns)}')\n",
        "print (f'Mean: {np.mean(returns)}')\n",
        "print (f'Median: {np.median(returns)}')\n",
        "\n",
        "plt.hist(returns['Close'], bins = 30)\n",
        "plt.ylabel('# of observations')\n",
        "plt.xlabel('Returns distribution')\n",
        "plt.legend(['MSFT returns'])"
      ],
      "execution_count": 5,
      "outputs": [
        {
          "output_type": "stream",
          "text": [
            "Skew: [-0.3013964]\n",
            "Mean: Close    0.000826\n",
            "dtype: float64\n",
            "Median: 0.00016455487905209232\n"
          ],
          "name": "stdout"
        },
        {
          "output_type": "execute_result",
          "data": {
            "text/plain": [
              "<matplotlib.legend.Legend at 0x7fa152a8f048>"
            ]
          },
          "metadata": {
            "tags": []
          },
          "execution_count": 5
        },
        {
          "output_type": "display_data",
          "data": {
            "image/png": "[encoded data removed]",
            "text/plain": [
              "<Figure size 432x288 with 1 Axes>"
            ]
          },
          "metadata": {
            "tags": []
          }
        }
      ]
    },
    {
      "cell_type": "markdown",
      "metadata": {
        "id": "VKAWcqTIzFNE",
        "colab_type": "text"
      },
      "source": [
        "## **Kurtosis**\n",
        "\n",
        "Kurtosis attempts to measure the shape of the deviation from the mean. Generally, it describes how peaked a distribution is compared the the normal distribution, called mesokurtic. All normal distributions, regardless of mean and variance, have a kurtosis of 3. A leptokurtic distribution (kurtosis > 3) is highly peaked and has fat tails, while a platykurtic distribution (kurtosis < 3) is broad. Sometimes, however, kurtosis in excess of the normal distribution (kurtosis - 3) is used, and this is the default in `scipy`. A leptokurtic distribution has more frequent large jumps away from the mean than a normal distribution does while a platykurtic distribution has fewer."
      ]
    },
    {
      "cell_type": "code",
      "metadata": {
        "id": "Pmeh6HC3zEnS",
        "colab_type": "code",
        "colab": {
          "base_uri": "https://localhost:8080/",
          "height": 337
        },
        "outputId": "cd9ba134-d83c-43a8-db82-0831974c3240"
      },
      "source": [
        "# Plot some example distributions\n",
        "plt.plot(xs,stats.laplace.pdf(xs), label='Leptokurtic')\n",
        "print ('Excess kurtosis of leptokurtic distribution:', (stats.laplace.stats(moments='k')))\n",
        "plt.plot(xs, normal, label='Mesokurtic (normal)')\n",
        "print ('Excess kurtosis of mesokurtic distribution:', (stats.norm.stats(moments='k')))\n",
        "plt.plot(xs,stats.cosine.pdf(xs), label='Platykurtic')\n",
        "print ('Excess kurtosis of platykurtic distribution:', (stats.cosine.stats(moments='k')))\n",
        "plt.legend()"
      ],
      "execution_count": 6,
      "outputs": [
        {
          "output_type": "stream",
          "text": [
            "Excess kurtosis of leptokurtic distribution: 3.0\n",
            "Excess kurtosis of mesokurtic distribution: 0.0\n",
            "Excess kurtosis of platykurtic distribution: -0.5937628755982794\n"
          ],
          "name": "stdout"
        },
        {
          "output_type": "execute_result",
          "data": {
            "text/plain": [
              "<matplotlib.legend.Legend at 0x7fa15172a390>"
            ]
          },
          "metadata": {
            "tags": []
          },
          "execution_count": 6
        },
        {
          "output_type": "display_data",
          "data": {
            "image/png": "[encoded data removed]",
            "text/plain": [
              "<Figure size 432x288 with 1 Axes>"
            ]
          },
          "metadata": {
            "tags": []
          }
        }
      ]
    },
    {
      "cell_type": "markdown",
      "metadata": {
        "id": "abwyNOVdzbuv",
        "colab_type": "text"
      },
      "source": [
        "The formula for kurtosis is\n",
        "$$ K = \\left ( \\frac{n(n+1)}{(n-1)(n-2)(n-3)} \\frac{\\sum_{i=1}^n (X_i - \\mu)^4}{\\sigma^4} \\right ) $$\n",
        "\n",
        "while excess kurtosis is given by\n",
        "$$ K_E = \\left ( \\frac{n(n+1)}{(n-1)(n-2)(n-3)} \\frac{\\sum_{i=1}^n (X_i - \\mu)^4}{\\sigma^4} \\right ) - \\frac{3(n-1)^2}{(n-2)(n-3)} $$\n",
        "\n",
        "For a large number of samples, the excess kurtosis becomes approximately\n",
        "\n",
        "$$ K_E \\approx \\frac{1}{n} \\frac{\\sum_{i=1}^n (X_i - \\mu)^4}{\\sigma^4} - 3 $$\n",
        "\n",
        "Since above we were considering perfect, continuous distributions, this was the form that kurtosis took. However, for a set of samples drawn for the normal distribution, we would use the first definition, and (excess) kurtosis would only be approximately 0.\n",
        "\n",
        "We can use `scipy` to find the excess kurtosis of the S&P 500 returns from before."
      ]
    },
    {
      "cell_type": "code",
      "metadata": {
        "id": "SMQ4JqUbr3lh",
        "colab_type": "code",
        "colab": {
          "base_uri": "https://localhost:8080/",
          "height": 34
        },
        "outputId": "bac141bb-7517-481f-c8e2-989830c13f19"
      },
      "source": [
        "print (f'Excess kurtosis of returns: {stats.kurtosis(returns)}')"
      ],
      "execution_count": 7,
      "outputs": [
        {
          "output_type": "stream",
          "text": [
            "Excess kurtosis of returns: [8.2745875]\n"
          ],
          "name": "stdout"
        }
      ]
    },
    {
      "cell_type": "markdown",
      "metadata": {
        "id": "xL8m9XM-0XyU",
        "colab_type": "text"
      },
      "source": [
        "## **Other standardized moments**\n",
        "\n",
        "It's no coincidence that the variance, skewness, and kurtosis take similar forms. They are the first and most important standardized moments, of which the $k$th has the form\n",
        "$$ \\frac{E[(X - E[X])^k]}{\\sigma^k} $$\n",
        "\n",
        "The first standardized moment is always 0 $(E[X - E[X]] = E[X] - E[E[X]] = 0)$, so we only care about the second through fourth. All of the standardized moments are dimensionless numbers which describe the distribution, and in particular can be used to quantify how close to normal (having standardized moments $0, \\sigma, 0, \\sigma^2$) a distribution is."
      ]
    },
    {
      "cell_type": "markdown",
      "metadata": {
        "id": "Ir8eYuhu0cIc",
        "colab_type": "text"
      },
      "source": [
        "## **Normality Testing Using Jarque-Bera**\n",
        "\n",
        "The Jarque-Bera test is a common statistical test that compares whether sample data has skewness and kurtosis similar to a normal distribution. We can run it here on the S&P 500 returns to find the p-value for them coming from a normal distribution.\n",
        "\n",
        "The Jarque Bera test's null hypothesis is that the data came from a normal distribution. Because of this it can err on the side of not catching a non-normal process if you have a low p-value. To be safe it can be good to increase your cutoff when using the test.\n",
        "\n",
        "Remember to treat p-values as binary and not try to read into them or compare them. We'll use a cutoff of 0.05 for our p-value.\n",
        "\n",
        "### **Test Calibration**\n",
        "\n",
        "Remember that each test is written a little differently across different programming languages. You might not know whether it's the null or alternative hypothesis that the tested data comes from a normal distribution. It is recommended that you use the `?` notation plus online searching to find documentation on the test; plus it is often a good idea to calibrate a test by checking it on simulated data and making sure it gives the right answer. Let's do that now."
      ]
    },
    {
      "cell_type": "code",
      "metadata": {
        "id": "4kuZXpZc0F3x",
        "colab_type": "code",
        "colab": {
          "base_uri": "https://localhost:8080/",
          "height": 34
        },
        "outputId": "c0e6c2b5-7343-4fcf-d4d2-2ccf3c892550"
      },
      "source": [
        "from statsmodels.stats.stattools import jarque_bera\n",
        "\n",
        "N = 1000\n",
        "M = 1000\n",
        "\n",
        "pvalues = np.ndarray((N))\n",
        "\n",
        "for i in range(N):\n",
        "    # Draw M samples from a normal distribution \n",
        "    X = np.random.normal(0, 1, M);\n",
        "    _, pvalue, _, _ = jarque_bera(X)\n",
        "    pvalues[i] = pvalue\n",
        "    \n",
        "# count number of pvalues below our default 0.05 cutoff\n",
        "num_significant = len(pvalues[pvalues < 0.05])\n",
        "\n",
        "print (float(num_significant) / N)"
      ],
      "execution_count": 8,
      "outputs": [
        {
          "output_type": "stream",
          "text": [
            "0.053\n"
          ],
          "name": "stdout"
        }
      ]
    },
    {
      "cell_type": "markdown",
      "metadata": {
        "id": "4KB-2cKs04U_",
        "colab_type": "text"
      },
      "source": [
        "Great, if properly calibrated we should expect to be wrong $5\\%$ of the time at a 0.05 significance level, and this is pretty close. This means that the test is working as we expect."
      ]
    },
    {
      "cell_type": "code",
      "metadata": {
        "id": "Rgso1IQW0ulJ",
        "colab_type": "code",
        "colab": {
          "base_uri": "https://localhost:8080/",
          "height": 34
        },
        "outputId": "a4542ff2-4c3d-4cfd-a372-258e5f0923aa"
      },
      "source": [
        "_, pvalue, _, _ = jarque_bera(returns)\n",
        "\n",
        "if pvalue > 0.05:\n",
        "    print ('The returns are likely normal.')\n",
        "else:\n",
        "    print ('The returns are likely not normal.')"
      ],
      "execution_count": 9,
      "outputs": [
        {
          "output_type": "stream",
          "text": [
            "The returns are likely not normal.\n"
          ],
          "name": "stdout"
        }
      ]
    },
    {
      "cell_type": "code",
      "metadata": {
        "id": "YRgHi1M80-e6",
        "colab_type": "code",
        "colab": {}
      },
      "source": [
        ""
      ],
      "execution_count": 0,
      "outputs": []
    }
  ]
}