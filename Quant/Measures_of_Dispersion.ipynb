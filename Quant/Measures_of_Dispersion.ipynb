{
  "nbformat": 4,
  "nbformat_minor": 0,
  "metadata": {
    "colab": {
      "name": "Measures_of_Dispersion.ipynb",
      "version": "0.3.2",
      "provenance": [],
      "include_colab_link": true
    },
    "kernelspec": {
      "name": "python3",
      "display_name": "Python 3"
    }
  },
  "cells": [
    {
      "cell_type": "markdown",
      "metadata": {
        "id": "view-in-github",
        "colab_type": "text"
      },
      "source": [
        "<a href=\"https://colab.research.google.com/github/LukaT11/quantitative_finance/blob/master/Measures_of_Dispersion.ipynb\" target=\"_parent\"><img src=\"https://colab.research.google.com/assets/colab-badge.svg\" alt=\"Open In Colab\"/></a>"
      ]
    },
    {
      "cell_type": "markdown",
      "metadata": {
        "id": "ypLYhdE2_Pbw",
        "colab_type": "text"
      },
      "source": [
        "# **Measures of Dispersion**\n",
        "\n",
        "Dispersion measures how spread out a set of data is. This is especially important in finance because one of the main ways risk is measured is in how spread out returns have been historically. If returns have been very tight around a central value, then we have less reason to worry. If returns have been all over the place, that is risky.\n",
        "\n",
        "Data with low dispersion is heavily clustered around the mean, while data with high dispersion indicates many very large and very small values."
      ]
    },
    {
      "cell_type": "code",
      "metadata": {
        "id": "8Jd7RWz09s2G",
        "colab_type": "code",
        "colab": {}
      },
      "source": [
        "# Import libraries\n",
        "import numpy as np\n",
        "\n",
        "X = np.random.seed(121)"
      ],
      "execution_count": 0,
      "outputs": []
    },
    {
      "cell_type": "code",
      "metadata": {
        "id": "f1jNpS7X_Zhx",
        "colab_type": "code",
        "colab": {
          "base_uri": "https://localhost:8080/",
          "height": 51
        },
        "outputId": "326c1c16-3e78-4890-e28a-c29d4d96853f"
      },
      "source": [
        "X = np.random.randint(100, size = 20)\n",
        "\n",
        "print(f'x: {np.sort(X)}')\n",
        "\n",
        "mu = np.mean(X)\n",
        "\n",
        "print(f'Mean of x: {mu}')"
      ],
      "execution_count": 2,
      "outputs": [
        {
          "output_type": "stream",
          "text": [
            "x: [ 3  8 34 39 46 52 52 52 54 57 60 65 66 75 83 85 88 94 95 96]\n",
            "Mean of x: 60.2\n"
          ],
          "name": "stdout"
        }
      ]
    },
    {
      "cell_type": "markdown",
      "metadata": {
        "id": "cVTyNbhcBQcZ",
        "colab_type": "text"
      },
      "source": [
        "## **Range**\n",
        "Range is simply the difference between the maximum and minimum values in a dataset. Not surprisingly, it is very sensitive to outliers. We'll use numpy's peak to peak (ptp) function for this."
      ]
    },
    {
      "cell_type": "code",
      "metadata": {
        "id": "XoLAeTChAoDA",
        "colab_type": "code",
        "colab": {
          "base_uri": "https://localhost:8080/",
          "height": 34
        },
        "outputId": "a412ec19-361c-4261-a607-e9147d60fdbe"
      },
      "source": [
        "print(f'Range of x: {np.ptp(X)}')"
      ],
      "execution_count": 3,
      "outputs": [
        {
          "output_type": "stream",
          "text": [
            "Range of x: 93\n"
          ],
          "name": "stdout"
        }
      ]
    },
    {
      "cell_type": "markdown",
      "metadata": {
        "id": "2BepfY8kB56R",
        "colab_type": "text"
      },
      "source": [
        "## **Mean Absolute Deviation (MAD)**\n",
        "\n",
        "The mean absolute deviation is the average of the distances of observations from the arithmetic mean. We use the absolute value of the deviation, so that 5 above the mean and 5 below the mean both contribute 5, because otherwise the deviations always sum to 0.\n",
        "\n",
        "$$ MAD = \\frac{\\sum_{i=1}^n |X_i - \\mu|}{n} $$\n",
        "\n",
        "where $n$ is the number of observations and $\\mu$ is their mean."
      ]
    },
    {
      "cell_type": "code",
      "metadata": {
        "id": "L7RUbvDXBbpT",
        "colab_type": "code",
        "colab": {
          "base_uri": "https://localhost:8080/",
          "height": 34
        },
        "outputId": "f6d8da12-8852-4f21-d540-2bc09657df43"
      },
      "source": [
        "abs_dispersion = [np.abs(x - mu) for x in X]\n",
        "\n",
        "MAD = np.sum(abs_dispersion) / len(abs_dispersion)\n",
        "\n",
        "print (f'Mean absolute deviation of X: {MAD}')"
      ],
      "execution_count": 4,
      "outputs": [
        {
          "output_type": "stream",
          "text": [
            "Mean absolute deviation of X: 20.52\n"
          ],
          "name": "stdout"
        }
      ]
    },
    {
      "cell_type": "markdown",
      "metadata": {
        "id": "sE6QZqwYDn3s",
        "colab_type": "text"
      },
      "source": [
        "## **Variance and standard deviation**\n",
        "\n",
        "The variance $\\sigma^2$ is defined as the average of the squared deviations around the mean:\n",
        "$$ \\sigma^2 = \\frac{\\sum_{i=1}^n (X_i - \\mu)^2}{n} $$\n",
        "\n",
        "This is sometimes more convenient than the mean absolute deviation because absolute value is not differentiable, while squaring is smooth, and some optimization algorithms rely on differentiability.\n",
        "\n",
        "Standard deviation is defined as the square root of the variance, $\\sigma$, and it is the easier of the two to interpret because it is in the same units as the observations."
      ]
    },
    {
      "cell_type": "code",
      "metadata": {
        "id": "9TDiBUAKC--S",
        "colab_type": "code",
        "colab": {
          "base_uri": "https://localhost:8080/",
          "height": 51
        },
        "outputId": "36e59569-7c01-43c9-d717-f320df40ddd8"
      },
      "source": [
        "print(f'Variance of X: {np.var(X)}')\n",
        "print (f'Standard deviation of X: {np.std(X)}')"
      ],
      "execution_count": 5,
      "outputs": [
        {
          "output_type": "stream",
          "text": [
            "Variance of X: 670.16\n",
            "Standard deviation of X: 25.887448696231154\n"
          ],
          "name": "stdout"
        }
      ]
    },
    {
      "cell_type": "markdown",
      "metadata": {
        "id": "5jHl4e2mEayl",
        "colab_type": "text"
      },
      "source": [
        "One way to interpret standard deviation is by referring to Chebyshev's inequality. This tells us that the proportion of samples within $k$ standard deviations (that is, within a distance of $k \\cdot$ standard deviation) of the mean is at least $1 - 1/k^2$ for all $k>1$.\n",
        "\n",
        "Let's check that this is true for our data set."
      ]
    },
    {
      "cell_type": "code",
      "metadata": {
        "id": "tf99hj-wD796",
        "colab_type": "code",
        "colab": {
          "base_uri": "https://localhost:8080/",
          "height": 51
        },
        "outputId": "615171af-413a-49a2-b5a7-5b99e9571a1f"
      },
      "source": [
        "k = 1.25\n",
        "dist = k*np.std(X)\n",
        "l = [x for x in X if np.abs(x - mu) <= dist]\n",
        "\n",
        "print (f'Observations within {k} stds of mean: {l}')\n",
        "\n",
        "if float(len(l))/len(X) > 1 - 1/k**2:\n",
        "  s = '>'\n",
        "else:\n",
        "  s = '<'\n",
        "\n",
        "print (f'Confirming that {float(len(l))/len(X)} {s} {1 - 1/k**2}')"
      ],
      "execution_count": 6,
      "outputs": [
        {
          "output_type": "stream",
          "text": [
            "Observations within 1.25 stds of mean: [66, 85, 65, 52, 83, 46, 34, 52, 60, 54, 52, 57, 75, 88, 39]\n",
            "Confirming that 0.75 > 0.36\n"
          ],
          "name": "stdout"
        }
      ]
    },
    {
      "cell_type": "markdown",
      "metadata": {
        "id": "1fQK9nXyK0Jo",
        "colab_type": "text"
      },
      "source": [
        "## **Semivariance and semideviation**\n",
        "\n",
        "Although variance and standard deviation tell us how volatile a quantity is, they do not differentiate between deviations upward and deviations downward. Often, such as in the case of returns on an asset, we are more worried about deviations downward. This is addressed by semivariance and semideviation, which only count the observations that fall below the mean. Semivariance is defined as\n",
        "$$ \\frac{\\sum_{X_i < \\mu} (X_i - \\mu)^2}{n_<} $$\n",
        "where $n_<$ is the number of observations which are smaller than the mean. Semideviation is the square root of the semivariance."
      ]
    },
    {
      "cell_type": "code",
      "metadata": {
        "id": "u65ERMxAIyrn",
        "colab_type": "code",
        "colab": {
          "base_uri": "https://localhost:8080/",
          "height": 51
        },
        "outputId": "2dfd2acb-6ac1-4501-9936-c4910f834247"
      },
      "source": [
        "# Because there is no built-in semideviation, we'll compute it ourselves\n",
        "\n",
        "lows = [e for e in X if e < mu]\n",
        "semivar  = np.sum((lows - mu)**2) / len(lows)\n",
        "\n",
        "print (f'Semivariance of X: {semivar}')\n",
        "print (f'Semideviation of X: {np.sqrt(semivar)}')"
      ],
      "execution_count": 7,
      "outputs": [
        {
          "output_type": "stream",
          "text": [
            "Semivariance of X: 689.5127272727274\n",
            "Semideviation of X: 26.2585743572024\n"
          ],
          "name": "stdout"
        }
      ]
    },
    {
      "cell_type": "markdown",
      "metadata": {
        "id": "Px1kXN09MdTJ",
        "colab_type": "text"
      },
      "source": [
        "A related notion is target semivariance (and target semideviation), where we average the distance from a target of values which fall below that target:\n",
        "$$ \\frac{\\sum_{X_i < B} (X_i - B)^2}{n_{<B}} $$\n"
      ]
    },
    {
      "cell_type": "code",
      "metadata": {
        "id": "RYp4o3X4MrCi",
        "colab_type": "code",
        "colab": {
          "base_uri": "https://localhost:8080/",
          "height": 51
        },
        "outputId": "d56681e3-35d6-43eb-f56e-b466865bffdb"
      },
      "source": [
        "B = 19\n",
        "lows_B = [e for e in X if e <= B]\n",
        "semivar_B = sum(map(lambda x: (x - B)**2, lows_B))/len(lows_B)\n",
        "\n",
        "\n",
        "print (f'Target semivariance of X: {semivar_B}')\n",
        "print (f'Target semideviation of X: {np.sqrt(semivar_B)}')"
      ],
      "execution_count": 9,
      "outputs": [
        {
          "output_type": "stream",
          "text": [
            "Target semivariance of X: 188.5\n",
            "Target semideviation of X: 13.729530217745982\n"
          ],
          "name": "stdout"
        }
      ]
    }
  ]
}