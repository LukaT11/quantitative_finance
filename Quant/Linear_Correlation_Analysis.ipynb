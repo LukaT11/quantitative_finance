{
  "nbformat": 4,
  "nbformat_minor": 0,
  "metadata": {
    "colab": {
      "name": "Linear Correlation Analysis.ipynb",
      "version": "0.3.2",
      "provenance": [],
      "include_colab_link": true
    },
    "kernelspec": {
      "name": "python3",
      "display_name": "Python 3"
    }
  },
  "cells": [
    {
      "cell_type": "markdown",
      "metadata": {
        "id": "view-in-github",
        "colab_type": "text"
      },
      "source": [
        "<a href=\"https://colab.research.google.com/github/LukaT11/quantitative_finance/blob/master/Linear_Correlation_Analysis.ipynb\" target=\"_parent\"><img src=\"https://colab.research.google.com/assets/colab-badge.svg\" alt=\"Open In Colab\"/></a>"
      ]
    },
    {
      "cell_type": "markdown",
      "metadata": {
        "id": "3cZ8rW4WJUML",
        "colab_type": "text"
      },
      "source": [
        "# **The Correlation Coefficient**\n",
        "\n",
        "The correlation coefficient measures the extent to which the relationship between two variables is linear. Its value is always between -1 and 1. A positive coefficient indicates that the variables are directly related, i.e. when one increases the other one also increases. A negative coefficient indicates that the variables are inversely related, so that when one increases the other decreases. The closer to 0 the correlation coefficient is, the weaker the relationship between the variables.\n",
        "\n",
        "The correlation coefficient of two series $X$ and $Y$ is defined as\n",
        "$$r = \\frac{Cov(X,Y)}{std(X)std(Y)}$$\n",
        "where $Cov$ is the covariance and $std$ is the standard deviation.\n",
        "\n",
        "Two random sets of data will have a correlation coefficient close to 0:"
      ]
    },
    {
      "cell_type": "markdown",
      "metadata": {
        "id": "A3kH8uPWJdSf",
        "colab_type": "text"
      },
      "source": [
        "## **Correlation vs. Covariance**\n",
        "\n",
        "Correlation is simply a normalized form of covariance. They are otherwise the same and are often used semi-interchangeably in everyday conversation. It is obviously important to be precise with language when discussing the two, but conceptually they are almost identical.\n",
        "\n",
        "## **Covariance isn't that meaningful by itself**\n",
        "\n",
        "Let's say we have two variables $X$ and $Y$ and we take the covariance of the two."
      ]
    },
    {
      "cell_type": "code",
      "metadata": {
        "id": "p34c1flq5O5-",
        "colab_type": "code",
        "colab": {}
      },
      "source": [
        "!pip install quandl"
      ],
      "execution_count": 0,
      "outputs": []
    },
    {
      "cell_type": "code",
      "metadata": {
        "id": "IfDmRGz3JEr_",
        "colab_type": "code",
        "outputId": "371a9762-cb4a-48ed-cef7-3827779ce405",
        "colab": {
          "base_uri": "https://localhost:8080/",
          "height": 34
        }
      },
      "source": [
        "import quandl\n",
        "import numpy as np\n",
        "import pandas as pd\n",
        "import matplotlib.pyplot as plt\n",
        "\n",
        "X = np.random.rand(50)\n",
        "Y = 2 * X + np.random.normal(0, 0.1, 50)\n",
        "\n",
        "print(np.cov(X, Y)[0, 1])"
      ],
      "execution_count": 0,
      "outputs": [
        {
          "output_type": "stream",
          "text": [
            "0.19453788840888922\n"
          ],
          "name": "stdout"
        }
      ]
    },
    {
      "cell_type": "markdown",
      "metadata": {
        "id": "_CngR6n_XPRS",
        "colab_type": "text"
      },
      "source": [
        "So now what? What does this mean? Correlation uses information about the variance of X and Y to normalize this metric. Once we've normalized the metric to the -1 to 1 scale, we can make meaningful statements and compare correlations.\n",
        "\n",
        "To see how this is done consider the formula.\n",
        "\n",
        "$$\\frac{Cov(X, Y)}{std(X)std(Y)}$$\n",
        "\n",
        "$$= \\frac{Cov(X, Y)}{\\sqrt{var(X)}\\sqrt{var(Y)}}$$\n",
        "\n",
        "$$= \\frac{Cov(X, Y)}{\\sqrt{Cov(X, X)}\\sqrt{Cov(Y, Y)}}$$"
      ]
    },
    {
      "cell_type": "markdown",
      "metadata": {
        "id": "_v_uXZt4XcGT",
        "colab_type": "text"
      },
      "source": [
        "To demonstrate this let's compare the correlation and covariance of two series."
      ]
    },
    {
      "cell_type": "code",
      "metadata": {
        "id": "v-fZk94XKAi_",
        "colab_type": "code",
        "outputId": "9857c46d-1fcd-40eb-a797-9786f620e7e8",
        "colab": {
          "base_uri": "https://localhost:8080/",
          "height": 85
        }
      },
      "source": [
        "X = np.random.rand(50)\n",
        "Y = 2 * X + 4\n",
        "\n",
        "print(f'Covariance of X and Y: {np.cov(X, Y)}')\n",
        "print(f'Correlation of X and Y: {np.corrcoef(X, Y)}')"
      ],
      "execution_count": 0,
      "outputs": [
        {
          "output_type": "stream",
          "text": [
            "Covariance of X and Y: [[0.07810667 0.15621334]\n",
            " [0.15621334 0.31242669]]\n",
            "Correlation of X and Y: [[1. 1.]\n",
            " [1. 1.]]\n"
          ],
          "name": "stdout"
        }
      ]
    },
    {
      "cell_type": "markdown",
      "metadata": {
        "id": "d6_KDZqYE-ER",
        "colab_type": "text"
      },
      "source": [
        "## **Why do both `np.cov` and `np.corrcoef` return matrices?**\n",
        "\n",
        "The covariance matrix is an important concept in statistics. Often people will refer to the covariance of two variables $X$ and $Y$, but in reality that is just one entry in the covariance matrix of $X$ and $Y$. For each input variable we have one row and one column. The diagonal is just the variance of that variable, or $Cov(X, X)$, entries off the diagonal are covariances between different variables. The matrix is symmetric across the diagonal. Let's check that this is true."
      ]
    },
    {
      "cell_type": "code",
      "metadata": {
        "id": "QZfNBEkHCivm",
        "colab_type": "code",
        "outputId": "dfdf954a-37c8-4328-f17e-50092bd8a4e3",
        "colab": {
          "base_uri": "https://localhost:8080/",
          "height": 34
        }
      },
      "source": [
        "cov_matrix = np.cov(X, Y)\n",
        "\n",
        "# We need to manually set the degrees of freedom on X to 1, as numpy defaults to 0 for variance\n",
        "# This is usually fine, but will result in a slight mismatch as np.cov defaults to 1\n",
        "\n",
        "error = cov_matrix[0, 0] - X.var(ddof=1)\n",
        "\n",
        "print(f'error: {error}')"
      ],
      "execution_count": 0,
      "outputs": [
        {
          "output_type": "stream",
          "text": [
            "error: 1.3877787807814457e-17\n"
          ],
          "name": "stdout"
        }
      ]
    },
    {
      "cell_type": "code",
      "metadata": {
        "id": "SsZwRYxVFz7r",
        "colab_type": "code",
        "outputId": "0aa5ab2a-41d3-4e3e-ebee-e0591cbc6c38",
        "colab": {
          "base_uri": "https://localhost:8080/",
          "height": 317
        }
      },
      "source": [
        "X = np.random.rand(50)\n",
        "Y = np.random.rand(50)\n",
        "\n",
        "plt.scatter(X, Y)\n",
        "plt.xlabel('X value')\n",
        "plt.ylabel('Y value')\n",
        "\n",
        "# taking the relevant value from the matrix returned by np.cov\n",
        "print(f'Correlation: {np.cov(X, Y)[0,1]/(np.std(X)*np.std(Y))}')\n",
        "\n",
        "# Let's also use the builtin correlation function\n",
        "print(f'Built-in Correlatoion: {np.corrcoef(X, Y)[0, 1]}')"
      ],
      "execution_count": 0,
      "outputs": [
        {
          "output_type": "stream",
          "text": [
            "Correlation: -0.22135308138442233\n",
            "Built-in Correlatoion: -0.2169260197567339\n"
          ],
          "name": "stdout"
        },
        {
          "output_type": "display_data",
          "data": {
            "image/png": "[encoded data removed]",
            "text/plain": [
              "<Figure size 432x288 with 1 Axes>"
            ]
          },
          "metadata": {
            "tags": []
          }
        }
      ]
    },
    {
      "cell_type": "markdown",
      "metadata": {
        "id": "o2dy5RVGJLlK",
        "colab_type": "text"
      },
      "source": [
        "Now let's see what two correlated sets of data look like."
      ]
    },
    {
      "cell_type": "code",
      "metadata": {
        "id": "sU95vNCxG6P4",
        "colab_type": "code",
        "outputId": "3478ecc1-48ed-44f9-8235-be5f3cc61260",
        "colab": {
          "base_uri": "https://localhost:8080/",
          "height": 300
        }
      },
      "source": [
        "X = np.random.rand(50)\n",
        "Y = X + np.random.normal(0, 0.1, 50)\n",
        "\n",
        "plt.scatter(X, Y)\n",
        "plt.xlabel('X value')\n",
        "plt.ylabel('Y value')\n",
        "\n",
        "print(f'Built-in Correlatoion: {np.corrcoef(X, Y)[0, 1]}')"
      ],
      "execution_count": 0,
      "outputs": [
        {
          "output_type": "stream",
          "text": [
            "Built-in Correlatoion: 0.9497539917610216\n"
          ],
          "name": "stdout"
        },
        {
          "output_type": "display_data",
          "data": {
            "image/png": "[encoded data removed]",
            "text/plain": [
              "<Figure size 432x288 with 1 Axes>"
            ]
          },
          "metadata": {
            "tags": []
          }
        }
      ]
    },
    {
      "cell_type": "markdown",
      "metadata": {
        "id": "18mLk_6oJNZM",
        "colab_type": "text"
      },
      "source": [
        "Let's dial down the relationship by introducing more noise."
      ]
    },
    {
      "cell_type": "code",
      "metadata": {
        "id": "unz1i0hiIzIR",
        "colab_type": "code",
        "outputId": "d841f4a6-f822-4efa-85fc-fcce6e2890fd",
        "colab": {
          "base_uri": "https://localhost:8080/",
          "height": 300
        }
      },
      "source": [
        "X = np.random.rand(50)\n",
        "Y = X + np.random.normal(0, 0.2, 50)\n",
        "\n",
        "plt.scatter(X, Y)\n",
        "plt.xlabel('X value')\n",
        "plt.ylabel('Y value')\n",
        "\n",
        "print(f'Built-in Correlatoion: {np.corrcoef(X, Y)[0, 1]}')"
      ],
      "execution_count": 0,
      "outputs": [
        {
          "output_type": "stream",
          "text": [
            "Built-in Correlatoion: 0.8090784718028985\n"
          ],
          "name": "stdout"
        },
        {
          "output_type": "display_data",
          "data": {
            "image/png": "[encoded data removed]",
            "text/plain": [
              "<Figure size 432x288 with 1 Axes>"
            ]
          },
          "metadata": {
            "tags": []
          }
        }
      ]
    },
    {
      "cell_type": "markdown",
      "metadata": {
        "id": "xBc0faykJTnL",
        "colab_type": "text"
      },
      "source": [
        "Finally, let's see what an inverse relationship looks like."
      ]
    },
    {
      "cell_type": "code",
      "metadata": {
        "id": "4TdrRCbcJDmW",
        "colab_type": "code",
        "outputId": "97496bca-a67d-413c-88ae-82104270fe33",
        "colab": {
          "base_uri": "https://localhost:8080/",
          "height": 300
        }
      },
      "source": [
        "X = np.random.rand(50)\n",
        "Y = -X + np.random.normal(0, 0.1, 50)\n",
        "\n",
        "plt.scatter(X, Y)\n",
        "plt.xlabel('X value')\n",
        "plt.ylabel('Y value')\n",
        "\n",
        "print(f'Built-in Correlatoion: {np.corrcoef(X, Y)[0, 1]}')"
      ],
      "execution_count": 0,
      "outputs": [
        {
          "output_type": "stream",
          "text": [
            "Built-in Correlatoion: -0.9513200800848102\n"
          ],
          "name": "stdout"
        },
        {
          "output_type": "display_data",
          "data": {
            "image/png": "[encoded data removed]",
            "text/plain": [
              "<Figure size 432x288 with 1 Axes>"
            ]
          },
          "metadata": {
            "tags": []
          }
        }
      ]
    },
    {
      "cell_type": "markdown",
      "metadata": {
        "id": "ni33pid6Jwiy",
        "colab_type": "text"
      },
      "source": [
        "## **How is this useful in finance?**\n",
        "\n",
        "### **Determining related assets**\n",
        "\n",
        "Once we've established that two series are probably related, we can use that in an effort to predict future values of the series. For example, let's look at the price of Apple and a semiconductor equipment manufacturer, Lam Research Corporation."
      ]
    },
    {
      "cell_type": "code",
      "metadata": {
        "id": "2fguGWwHJV8o",
        "colab_type": "code",
        "outputId": "330d4dcd-98a3-409e-d5f0-a9c8e9a01d51",
        "colab": {
          "base_uri": "https://localhost:8080/",
          "height": 312
        }
      },
      "source": [
        "# Pull the pricing data for our two stocks and S&P 500\n",
        "start = '2013-01-01'\n",
        "end = '2015-01-01'\n",
        "\n",
        "quandl.ApiConfig.api_key = 'xx8w-rWbjyXpygy-PN5m'   #create an account with Quandl and insert your api key here, otherwise you are limited to only 50 data calls per day\n",
        "\n",
        "a1 = quandl.get('WIKI/LRCX.11', start_date=start, end_date=end)\n",
        "a2 = quandl.get('WIKI/AAPL.11', start_date=start, end_date=end)\n",
        "\n",
        "\n",
        "a1 = a1['Adj. Close'].values\n",
        "a2 = a2['Adj. Close'].values/10\n",
        "\n",
        "plt.scatter(a1, a2)\n",
        "plt.xlabel('LRCX')\n",
        "plt.ylabel('AAPL')\n",
        "plt.title('Stock prices from ' + start + ' to ' + end)\n",
        "\n",
        "print (f'LRCX and AAPL: {np.corrcoef(a1, a2)[0,1]}')\n"
      ],
      "execution_count": 0,
      "outputs": [
        {
          "output_type": "stream",
          "text": [
            "LRCX and AAPL: 0.9594867068081923\n"
          ],
          "name": "stdout"
        },
        {
          "output_type": "display_data",
          "data": {
            "image/png": "[encoded data removed]",
            "text/plain": [
              "<Figure size 432x288 with 1 Axes>"
            ]
          },
          "metadata": {
            "tags": []
          }
        }
      ]
    },
    {
      "cell_type": "markdown",
      "metadata": {
        "id": "VRTJ8LzWKUbp",
        "colab_type": "text"
      },
      "source": [
        "## **Constructing a portfolio of uncorrelated assets**\n",
        "\n",
        "Another reason that correlation is useful in finance is that uncorrelated assets produce the best portfolios. The intuition for this is that if the assets are uncorrelated, a drawdown in one will not correspond with a drawdown in another. This leads to a very stable return stream when many uncorrelated assets are combined."
      ]
    },
    {
      "cell_type": "markdown",
      "metadata": {
        "id": "qEhfh8KKV4XO",
        "colab_type": "text"
      },
      "source": [
        "## **Limitations**\n",
        "\n",
        "### **Significance**\n",
        "\n",
        "It's hard to rigorously determine whether or not a correlation is significant, especially when, as here, the variables are not normally distributed. Their correlation coefficient is close to 1, so it's pretty safe to say that the two stock prices are correlated over the time period we use, but is this indicative of future correlation? If we examine the correlation of each of them with the S&P 500, we see that it is also quite high. So, AAPL and LRCX are slightly more correlated with each other than with the average stock.\n",
        "\n",
        "One fundamental problem is that it is easy to datamine correlations by picking the right time period. To avoid this, one should compute the correlation of two quantities over many historical time periods and examine the distibution of the correlation coefficient. More details on why single point estimates are bad will be covered in future notebooks.\n",
        "\n",
        "As an example, remember that the correlation of AAPL and LRCX from 2013-1-1 to 2015-1-1 was 0.78. Let's take the rolling 60 day correlation between the two to see how that varies."
      ]
    },
    {
      "cell_type": "code",
      "metadata": {
        "id": "jzGSIYtnVqsC",
        "colab_type": "code",
        "outputId": "454388d5-6923-4f6a-d662-5ede84d849e9",
        "colab": {
          "base_uri": "https://localhost:8080/",
          "height": 300
        }
      },
      "source": [
        "matrix = np.array([a1, a2])\n",
        "\n",
        "matrix = pd.DataFrame(matrix)\n",
        "matrix = matrix.T\n",
        "\n",
        "matrix.columns = ['LRCX', 'AAPL']\n",
        "\n",
        "matrix = matrix.rolling(60).corr()\n",
        "\n",
        "matrix.dropna(inplace = True)\n",
        "matrix.reset_index(inplace = True)\n",
        "matrix = matrix.loc[(matrix['LRCX'] < 1.0) & (matrix['level_1'] == 'AAPL')]\n",
        "\n",
        "rolling_correlation = matrix[['LRCX']]\n",
        "\n",
        "plt.plot(rolling_correlation)\n",
        "plt.xlabel('Day')\n",
        "plt.ylabel('60-day Rolling Correlation')\n"
      ],
      "execution_count": 0,
      "outputs": [
        {
          "output_type": "execute_result",
          "data": {
            "text/plain": [
              "Text(0, 0.5, '60-day Rolling Correlation')"
            ]
          },
          "metadata": {
            "tags": []
          },
          "execution_count": 10
        },
        {
          "output_type": "display_data",
          "data": {
            "image/png": "[encoded data removed]",
            "text/plain": [
              "<Figure size 432x288 with 1 Axes>"
            ]
          },
          "metadata": {
            "tags": []
          }
        }
      ]
    },
    {
      "cell_type": "markdown",
      "metadata": {
        "id": "Fd0uuW-ihrS8",
        "colab_type": "text"
      },
      "source": [
        "## **Non-Linear Relationships**\n",
        "\n",
        "The correlation coefficient can be useful for examining the strength of the relationship between two variables. However, it's important to remember that two variables may be associated in different, predictable ways which this analysis would not pick up. For instance, one variable might precisely follow the behavior of a second, but with a delay. There are techniques for dealing with this lagged correlation. Alternatively, a variable may be related to the rate of change of another. Neither of these relationships are linear, but can be very useful if detected.\n",
        "\n",
        "Additionally, the correlation coefficient can be very sensitive to outliers. This means that including or excluding even a couple of data points can alter your result, and it is not always clear whether these points contain information or are simply noise.\n",
        "\n",
        "As an example, let's make the noise distribution poisson rather than normal and see what happens."
      ]
    },
    {
      "cell_type": "code",
      "metadata": {
        "id": "pRUadTWcWTNh",
        "colab_type": "code",
        "outputId": "49444228-3562-4886-df27-9d0262ac4323",
        "colab": {
          "base_uri": "https://localhost:8080/",
          "height": 286
        }
      },
      "source": [
        "X = np.random.rand(100)\n",
        "Y = X + np.random.poisson(size=100)\n",
        "\n",
        "plt.scatter(X, Y)\n",
        "\n",
        "np.corrcoef(X, Y)[0, 1]"
      ],
      "execution_count": 0,
      "outputs": [
        {
          "output_type": "execute_result",
          "data": {
            "text/plain": [
              "0.31154351760818394"
            ]
          },
          "metadata": {
            "tags": []
          },
          "execution_count": 12
        },
        {
          "output_type": "display_data",
          "data": {
            "image/png": "[encoded data removed]",
            "text/plain": [
              "<Figure size 432x288 with 1 Axes>"
            ]
          },
          "metadata": {
            "tags": []
          }
        }
      ]
    },
    {
      "cell_type": "markdown",
      "metadata": {
        "id": "KuAHevKMjM4I",
        "colab_type": "text"
      },
      "source": [
        "In conclusion, correlation is a powerful technique, but as always in statistics, one should be careful not to interpret results where there are none."
      ]
    }
  ]
}