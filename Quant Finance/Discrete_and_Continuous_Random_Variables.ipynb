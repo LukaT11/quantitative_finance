{
  "nbformat": 4,
  "nbformat_minor": 0,
  "metadata": {
    "colab": {
      "name": "Discrete and Continuous Random Variables.ipynb",
      "version": "0.3.2",
      "provenance": [],
      "include_colab_link": true
    },
    "kernelspec": {
      "name": "python3",
      "display_name": "Python 3"
    }
  },
  "cells": [
    {
      "cell_type": "markdown",
      "metadata": {
        "id": "view-in-github",
        "colab_type": "text"
      },
      "source": [
        "<a href=\"https://colab.research.google.com/github/LukaT11/quantitative_finance/blob/master/Quant%20Finance/Discrete_and_Continuous_Random_Variables.ipynb\" target=\"_parent\"><img src=\"https://colab.research.google.com/assets/colab-badge.svg\" alt=\"Open In Colab\"/></a>"
      ]
    },
    {
      "cell_type": "markdown",
      "metadata": {
        "id": "oV_3xIBqtMXh",
        "colab_type": "text"
      },
      "source": [
        "# **Discrete and Continuous Random Variables**\n",
        "A random variable is variable that takes on values according to chance. When discussing random variables, we typically describe them in terms of probability distributions. That is, the probability that each value can come out of the random variable. The classic example of this is a die, which can produce the values 1-6 with uniform probability.\n",
        "\n",
        "We typically separate random variables into two different classes:\n",
        "\n",
        "* Discrete random variables\n",
        "* Continuous random variables\n",
        "\n",
        "How each of these is handled varies, but the principles underlying them remain the same. We can easily see how modeling random variables can come in handy when dealing with finance; financial assets are often expressed as moving according to deterministic and random patterns, with the random patterns being expressed with random variables. To do this we would 'sample' from the random variable at each timestep, then move the financial instrument by that amount. This analysis is used because much of the motion in assets is unexplained using determinstic models.\n",
        "\n",
        "Each random variable follows a **probability distribution**, a function which describes it. The probability distribution assigns probabilities to all possible values of a random variable. For a given random variable $X$, we express the probability that $X$ is equal to a value $x$ as $P(X = x)$. For discrete random variables, we can express $p(x) = P(X = x)$ in shorthand. This is also known as the **probability mass function** (PMF). For continuous random variables we cannot use a PMF, as we will cover later, so we must use a **probability density function** (PDF). Probability distributions form the basis for the Black-Scholes and binomial pricing models as well as the CAPM. An understanding of them is also necessary in order to perform Monte Carlo simulations.\n",
        "\n",
        "For each probability distribution function, we also have a **cumulative distribution function** (CDF). This is defined as $P(X \\leq x)$, the probability that the random variable is less than or equal to a particular value. The shorthand for the CDF is $F(x) = P(X \\leq x)$. In order to find $F(x)$ in the discrete case, we sum up the values of the PMF for all outcomes less than or equal to $x$. In the continuous case, we use calculus to integrate the PDF over all values up to $x$."
      ]
    },
    {
      "cell_type": "code",
      "metadata": {
        "id": "zo7j0EohtH-d",
        "colab_type": "code",
        "colab": {}
      },
      "source": [
        "import pandas as pd\n",
        "import numpy as np\n",
        "import matplotlib.pyplot as plt\n",
        "import statsmodels.stats as stats\n",
        "from statsmodels.stats import stattools\n",
        "from __future__ import division"
      ],
      "execution_count": 0,
      "outputs": []
    },
    {
      "cell_type": "markdown",
      "metadata": {
        "id": "5n18Ygb7tYf0",
        "colab_type": "text"
      },
      "source": [
        "## Discrete Random Variables\n",
        "A discrete random variable is one with a countable number of outcomes. Each of these outcomes has a separate probability associated with it. Consider a coin flip or a die roll, some of the most basic uniformly distributed random variables. For the coin flip, there are two possible outcomes, either heads or tails, each with a $1/2$ probability of occurring. Discrete random variables do not always have equal weights for all outcomes. The basic unit of a discrete random variable is its **probability mass function** (PMF), another name for the probability function $p(x)$. The PMF, or probability function, gives a probability, a mass, to each point in the domain of the probability distribution. A probability function has two main properties:\n",
        "\n",
        "1. $0 \\leq p(x) \\leq 1$ because all probabilities are in the interval $[0, 1]$\n",
        "2. The sum of all probabilities $p(x)$ over all values of X is equal to $1$. The total weights for all values of the random variable must add to $1$.\n",
        "\n",
        "Here we will consider some examples of the most prevalent discrete probability distributions."
      ]
    },
    {
      "cell_type": "code",
      "metadata": {
        "id": "n-ZWK6LKw9Xa",
        "colab_type": "code",
        "colab": {}
      },
      "source": [
        "class DiscreteRandomVariable:\n",
        "    def __init__(self, a=0, b=1):\n",
        "        self.variableType = \"\"\n",
        "        self.low = a\n",
        "        self.high = b\n",
        "        return\n",
        "    def draw(self, numberOfSamples):\n",
        "        samples = np.random.random_integers(self.low, self.high, numberOfSamples)\n",
        "        return samples"
      ],
      "execution_count": 0,
      "outputs": []
    },
    {
      "cell_type": "markdown",
      "metadata": {
        "id": "vy1LTOTvw6Ur",
        "colab_type": "text"
      },
      "source": [
        "### Uniform Distribution\n",
        "The most basic type of probability distribution is the uniform distribution. With a discrete uniform distribution, equal weight is assigned to all outcomes. Take the example of rolling a die. It has six faces, numbered $1$ through $6$, each equally likely to occur with a $1/6$ chance each. With this, we know the the PMF must be $p(x) = 1/6$ for all values of our uniform random variable $X$."
      ]
    },
    {
      "cell_type": "code",
      "metadata": {
        "id": "j0kz9MV8tU87",
        "colab_type": "code",
        "outputId": "66db2854-0e80-4d5b-f02f-ff875785a607",
        "colab": {
          "base_uri": "https://localhost:8080/",
          "height": 354
        }
      },
      "source": [
        "DieRolls = DiscreteRandomVariable(1, 6)\n",
        "plt.hist(DieRolls.draw(10), bins = [1,2,3,4,5,6,7], align = 'left')\n",
        "plt.xlabel('Value')\n",
        "plt.ylabel('Occurences')\n",
        "plt.legend(['Die Rolls'])"
      ],
      "execution_count": 0,
      "outputs": [
        {
          "output_type": "stream",
          "text": [
            "/usr/local/lib/python3.6/dist-packages/ipykernel_launcher.py:8: DeprecationWarning: This function is deprecated. Please call randint(1, 6 + 1) instead\n",
            "  \n"
          ],
          "name": "stderr"
        },
        {
          "output_type": "execute_result",
          "data": {
            "text/plain": [
              "<matplotlib.legend.Legend at 0x7fd8bb80b9e8>"
            ]
          },
          "metadata": {
            "tags": []
          },
          "execution_count": 21
        },
        {
          "output_type": "display_data",
          "data": {
            "image/png": "[encoded data removed]",
            "text/plain": [
              "<Figure size 432x288 with 1 Axes>"
            ]
          },
          "metadata": {
            "tags": []
          }
        }
      ]
    },
    {
      "cell_type": "markdown",
      "metadata": {
        "id": "X4d9QSvzymzm",
        "colab_type": "text"
      },
      "source": [
        "Each time we roll the die, we have an equal chance of getting each face. In the short run this looks uneven, but if we take many samples it is apparent that each face is occurring the same percentage of rolls."
      ]
    },
    {
      "cell_type": "code",
      "metadata": {
        "id": "vYlP9NS9x9wB",
        "colab_type": "code",
        "outputId": "893c2a9a-d05e-49bf-bec8-fcdc57b6ab00",
        "colab": {
          "base_uri": "https://localhost:8080/",
          "height": 354
        }
      },
      "source": [
        "plt.hist(DieRolls.draw(10000), bins = [1,2,3,4,5,6,7], align = 'left')\n",
        "plt.xlabel('Value')\n",
        "plt.ylabel('Occurences')\n",
        "plt.legend(['Die Rolls'])"
      ],
      "execution_count": 0,
      "outputs": [
        {
          "output_type": "stream",
          "text": [
            "/usr/local/lib/python3.6/dist-packages/ipykernel_launcher.py:8: DeprecationWarning: This function is deprecated. Please call randint(1, 6 + 1) instead\n",
            "  \n"
          ],
          "name": "stderr"
        },
        {
          "output_type": "execute_result",
          "data": {
            "text/plain": [
              "<matplotlib.legend.Legend at 0x7fd8bb6949b0>"
            ]
          },
          "metadata": {
            "tags": []
          },
          "execution_count": 22
        },
        {
          "output_type": "display_data",
          "data": {
            "image/png": "[encoded data removed]",
            "text/plain": [
              "<Figure size 432x288 with 1 Axes>"
            ]
          },
          "metadata": {
            "tags": []
          }
        }
      ]
    },
    {
      "cell_type": "markdown",
      "metadata": {
        "id": "cr-0Cy8Iyt1t",
        "colab_type": "text"
      },
      "source": [
        "So with a die roll, we can easily see illustrated that the $p(x) = 1/6$ for all values of the random variable $X$. Let's look at the possibilities for all values of both the probability function and the cumulative distribution function:\n",
        "\n",
        "Value: $X = x$ | PMF: $p(x) = P(X = x)$ | CDF: $F(x) = P(X \\leq x)$ |\n",
        "--- | --- | --- | \n",
        "1 | $1/6$ | $1/6$\n",
        "2 | $1/6$ | $1/3$\n",
        "3 | $1/6$ | $1/2$\n",
        "4 | $1/6$ | $2/3$\n",
        "5 | $1/6$ | $5/6$\n",
        "6 | $1/6$ | $1$\n",
        "\n",
        "Using this table we can easily see that the probability function satisfies the necessary conditions. Each value of the probability function is in the interval $[0,1]$, satisfying the first condition. The second condition is satisfied because all values of $p(x)$ sum to $1$, as evidenced in the cumulative distribution function. The demonstrates two properties of the cumulative distribution function:\n",
        "\n",
        "1. The CDF is between $0$ and $1$ for all $x$. This parallels the value of the probability distribution function.\n",
        "2. The CDF is nondecreasing in $x$. This means that as $x$ increases, the CDF either increases or remains constant.\n",
        "\n",
        "When attempting to sample other probability distributions, we can use compositions of the uniform distribution with certain functions in order to get the appropriate samples. However, this method can be tremendously inefficient. As such, we will instead use the built-in NumPy functions for each distribution to simplify matters."
      ]
    },
    {
      "cell_type": "markdown",
      "metadata": {
        "id": "awrW0Zyuyx6b",
        "colab_type": "text"
      },
      "source": [
        "### Binomial Distribution\n",
        "A binomial distribution is used to describe successes and failures. This can be very useful in an investment context as many of our choices tend to be binary like this. When we take a single success/failure trial, we call it a Bernoulli trial. With the Bernoulli random variable, we have two possible outcomes:\n",
        "\n",
        "$$p(1) = P(Y = 1) = p \\ \\ \\ \\ \\ \\ \\\n",
        "p(0) = P(Y = 0) = 1-p$$\n",
        "\n",
        "We consider $Y$ taking on a value of $1$ to be a success, so the probability of a success occurring in a single trial is $p$.\n",
        "\n",
        "A binomial distribution takes a set of $n$ Bernoulli trials. As such, we can have somewhere between $0$ and $n$ successes. Each trial has the same probability of success, $p$, and all of the trials are independent of each other. We can describe the entire binomial random variable using only $n$ and $p$, signified by the notation $X$ **~** $B(n, p)$. This states that $X$ is a binomial random variable with parameters $n$ and $p$.\n",
        "\n",
        "In order to define the probability function of a binomial random variable, we must be able to choose some number of successes out of the total number of trials. This idea lends itself easily to the combination idea in combinatorics. A combination describes all possible ways of selecting items out of a collection such that order does not matter. For example, if we have $6$ pairs of socks and we want to choose $2$ of them, we would write the total number of combinations possible as $\\binom{6}{2}$. This is expanded as:\n",
        "\n",
        "$$\n",
        "\\binom{6}{2} = \\frac{6!}{4! \\ 2!} = 15\n",
        "$$\n",
        "\n",
        "Where $!$ denotes factorial and $n! = (n)(n-1)(n-2)\\ldots (1)$. In order to write the formula for a combination more generally, we write:\n",
        "\n",
        "$$\n",
        "\\binom{n}{x} = \\frac{n!}{(n-x)! \\ x!}\n",
        "$$\n",
        "\n",
        "We use this notation in order to choose successes with our binomial random variable. The combination serves the purpose of computing how many different ways we can reach the same result. The resulting probability function is:\n",
        "\n",
        "$$\n",
        "p(x) = P(X = x) = \\binom{n}{x}p^x(1-p)^{n-x} = \\frac{n!}{(n-x)! \\ x!} p^x(1-p)^{n-x}\n",
        "$$\n",
        "\n",
        "If $X$ is a binomial random variable distributed with $B(n, p)$."
      ]
    },
    {
      "cell_type": "code",
      "metadata": {
        "id": "2Ec6ug4JzGnn",
        "colab_type": "code",
        "colab": {}
      },
      "source": [
        "class BinomialRandomVariable(DiscreteRandomVariable):\n",
        "    def __init__(self, numberOfTrials = 10, probabilityOfSuccess = 0.5):\n",
        "        self.variableType = \"Binomial\"\n",
        "        self.numberOfTrials = numberOfTrials\n",
        "        self.probabilityOfSuccess = probabilityOfSuccess\n",
        "        return\n",
        "    def draw(self, numberOfSamples):\n",
        "        samples = np.random.binomial(self.numberOfTrials, self.probabilityOfSuccess, numberOfSamples)\n",
        "        return samples"
      ],
      "execution_count": 0,
      "outputs": []
    },
    {
      "cell_type": "markdown",
      "metadata": {
        "id": "4CbuWM0ozJuF",
        "colab_type": "text"
      },
      "source": [
        "Take the example of a stock price moving up or down, each with probability $p = 0.5$. We can consider a move up, or $U$, to be a success and a move down, or $D$ to be a failure. With this, we can analyze the probability of each event using a binomial random variable. We will also consider an $n$-value of $5$ for $5$ observations of the stock price over time. The following table shows the probability of each event:\n",
        "\n",
        "Number of Up moves, $x$ | Ways of reaching $x$ Up moves $\\binom{n}{x}$ | Independent Trials with $p = 0.50$ | $p(x)$ Value | CDF: $F(x) = P(X \\leq x)$ |\n",
        "--- | --- | --- | --- | --- | \n",
        "$0$ | $1$ | $0.50^0 (1 - 0.50)^5 = 0.03125$ | $0.03125$ | $0.03125$\n",
        "$1$ | $5$ | $0.50^1 (1 - 0.50)^4 = 0.03125$ | $0.15635$ | $0.18750$\n",
        "$2$ | $10$ | $0.50^2 (1 - 0.50)^3 = 0.03125$ | $0.31250$ | $0.50000$\n",
        "$3$ | $10$ | $0.50^3 (1 - 0.50)^2 = 0.03125$ | $0.31250$ | $0.81250$\n",
        "$4$ | $5$ | $0.50^4 (1 - 0.50)^1 = 0.03125$ | $0.15635$ | $0.96875$\n",
        "$5$ | $1$ | $0.50^5 (1 - 0.50)^0 = 0.03125$ | $0.03125$ | $1.00000$\n",
        "\n",
        "Here we see that in the particular case where $p = 0.50$, the binomial distribution is symmetric. Because we have an equal probability for both an upward and a downward move, the only differentiating factor between probabilities ends up being the combination aspect of the probability function, which is itself symmetric. If we were to slightly modify the value of $p$ we would end up with an asymmetric distribution.\n",
        "\n",
        "Now we will draw some samples for the parameters above, where $X$ **~** $B(5, 0.50)$:"
      ]
    },
    {
      "cell_type": "code",
      "metadata": {
        "id": "axB4bs-Dyohv",
        "colab_type": "code",
        "outputId": "1ec6784c-76a1-40c3-8c77-c3e9459cb258",
        "colab": {
          "base_uri": "https://localhost:8080/",
          "height": 300
        }
      },
      "source": [
        "StockProbabilities = BinomialRandomVariable(5, 0.50)\n",
        "plt.hist(StockProbabilities.draw(50), bins = [0, 1, 2, 3, 4, 5, 6], align = 'left')\n",
        "plt.xlabel('Value')\n",
        "plt.ylabel('Occurences')\n",
        "plt.legend(['Die Rolls'])"
      ],
      "execution_count": 0,
      "outputs": [
        {
          "output_type": "execute_result",
          "data": {
            "text/plain": [
              "<matplotlib.legend.Legend at 0x7fd8bb74ac88>"
            ]
          },
          "metadata": {
            "tags": []
          },
          "execution_count": 24
        },
        {
          "output_type": "display_data",
          "data": {
            "image/png": "[encoded data removed]",
            "text/plain": [
              "<Figure size 432x288 with 1 Axes>"
            ]
          },
          "metadata": {
            "tags": []
          }
        }
      ]
    },
    {
      "cell_type": "markdown",
      "metadata": {
        "id": "OsiS1ymC1ZB4",
        "colab_type": "text"
      },
      "source": [
        "\n",
        "Again, as in all cases of sampling, the more samples that you take, the more consistent your resulting distribution looks:"
      ]
    },
    {
      "cell_type": "code",
      "metadata": {
        "id": "UfUKrBs6Ns1M",
        "colab_type": "code",
        "outputId": "98f08359-e7b5-4ab0-a8ff-9d0d9645eeec",
        "colab": {
          "base_uri": "https://localhost:8080/",
          "height": 300
        }
      },
      "source": [
        "plt.hist(StockProbabilities.draw(1000000), bins = [0, 1, 2, 3, 4, 5, 6], align = 'left')\n",
        "plt.xlabel('Value')\n",
        "plt.ylabel('Occurences')"
      ],
      "execution_count": 0,
      "outputs": [
        {
          "output_type": "execute_result",
          "data": {
            "text/plain": [
              "Text(0, 0.5, 'Occurences')"
            ]
          },
          "metadata": {
            "tags": []
          },
          "execution_count": 27
        },
        {
          "output_type": "display_data",
          "data": {
            "image/png": "[encoded data removed]",
            "text/plain": [
              "<Figure size 432x288 with 1 Axes>"
            ]
          },
          "metadata": {
            "tags": []
          }
        }
      ]
    },
    {
      "cell_type": "markdown",
      "metadata": {
        "id": "vor1Qg6W1k_z",
        "colab_type": "text"
      },
      "source": [
        "Say that we changed our parameters so that $p = 0.25$. This makes it so that $P(X = 0) = 0.23730$, skewing our distribution much more towards lower values. We can see this easily in the following graph:"
      ]
    },
    {
      "cell_type": "code",
      "metadata": {
        "id": "tw9tLuOp1bBf",
        "colab_type": "code",
        "outputId": "07153b88-1dd9-46ab-9ded-496b06b29b98",
        "colab": {
          "base_uri": "https://localhost:8080/",
          "height": 300
        }
      },
      "source": [
        "StockProbabilities = BinomialRandomVariable(5, 0.25)\n",
        "plt.hist(StockProbabilities.draw(10000), bins = [0, 1, 2, 3, 4, 5, 6], align = 'left')\n",
        "plt.xlabel('Value')\n",
        "plt.ylabel('Occurences')"
      ],
      "execution_count": 0,
      "outputs": [
        {
          "output_type": "execute_result",
          "data": {
            "text/plain": [
              "Text(0, 0.5, 'Occurences')"
            ]
          },
          "metadata": {
            "tags": []
          },
          "execution_count": 30
        },
        {
          "output_type": "display_data",
          "data": {
            "image/png": "[encoded data removed]",
            "text/plain": [
              "<Figure size 432x288 with 1 Axes>"
            ]
          },
          "metadata": {
            "tags": []
          }
        }
      ]
    },
    {
      "cell_type": "markdown",
      "metadata": {
        "id": "_NjQGj6-1rzR",
        "colab_type": "text"
      },
      "source": [
        "Changing the value of $p$ from $0.50$ to $0.25$ clearly makes our distribution asymmetric. We can extend this idea of stock price moving with a binomial random variable into a framework that we call the Binomial Model of Stock Price Movement. This is used as one of the foundations for option pricing. In the Binomial Model, it is assumed that for any given time period a stock price can move up or down by a value determined by the up or down probabilities. This turns the stock price into the function of a binomial random variable, the magnitude of upward or downward movement, and the initial stock price. We can vary these parameters in order to approximate different stock price distributions."
      ]
    },
    {
      "cell_type": "code",
      "metadata": {
        "id": "NMtoBjeTItps",
        "colab_type": "code",
        "outputId": "14b3e7d4-fd6a-4410-cce6-f71f5203da30",
        "colab": {
          "base_uri": "https://localhost:8080/",
          "height": 34
        }
      },
      "source": [
        "StockProbabilities = BinomialRandomVariable(5, 0.15)\n",
        "StockProbabilities.draw(10)"
      ],
      "execution_count": 0,
      "outputs": [
        {
          "output_type": "execute_result",
          "data": {
            "text/plain": [
              "array([0, 1, 0, 1, 1, 0, 1, 0, 3, 0])"
            ]
          },
          "metadata": {
            "tags": []
          },
          "execution_count": 40
        }
      ]
    },
    {
      "cell_type": "code",
      "metadata": {
        "id": "MepRZ-8_Ivgt",
        "colab_type": "code",
        "colab": {}
      },
      "source": [
        ""
      ],
      "execution_count": 0,
      "outputs": []
    }
  ]
}