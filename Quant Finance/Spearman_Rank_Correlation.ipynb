{
  "nbformat": 4,
  "nbformat_minor": 0,
  "metadata": {
    "colab": {
      "name": "Spearman Rank Correlation.ipynb",
      "version": "0.3.2",
      "provenance": [],
      "include_colab_link": true
    },
    "kernelspec": {
      "name": "python3",
      "display_name": "Python 3"
    }
  },
  "cells": [
    {
      "cell_type": "markdown",
      "metadata": {
        "id": "view-in-github",
        "colab_type": "text"
      },
      "source": [
        "<a href=\"https://colab.research.google.com/github/LukaT11/quantitative_finance/blob/master/Spearman_Rank_Correlation.ipynb\" target=\"_parent\"><img src=\"https://colab.research.google.com/assets/colab-badge.svg\" alt=\"Open In Colab\"/></a>"
      ]
    },
    {
      "cell_type": "markdown",
      "metadata": {
        "id": "7vQk2rHCjTpQ",
        "colab_type": "text"
      },
      "source": [
        "# **Measuring monotonic relationships**\n",
        "\n",
        "The Spearman Rank Correlation Coefficient allows us to determine whether or not two data series move together; that is, when one increases (decreases) the other also increases (decreases). This is more general than a linear relationship; for instance, $y = e^x$ is a monotonic function, but not a linear one. Therefore, in computing it we compare not the raw data but the ranks of the data.\n",
        "\n",
        "This is useful when your data sets may be in different units, and therefore not linearly related (for example, the price of a square plot of land and its side length, since the price is more likely to be linear in the area). It's also suitable for data sets which not satisfy the assumptions that other tests require, such as the observations being normally distributed as would be necessary for a t-test."
      ]
    },
    {
      "cell_type": "code",
      "metadata": {
        "id": "Wzwoq_zTjNel",
        "colab_type": "code",
        "colab": {}
      },
      "source": [
        "import numpy as np\n",
        "import scipy.stats as stats\n",
        "import matplotlib.pyplot as plt\n",
        "import math"
      ],
      "execution_count": 0,
      "outputs": []
    },
    {
      "cell_type": "code",
      "metadata": {
        "id": "4GcnDCMltAmb",
        "colab_type": "code",
        "outputId": "d19492f6-2236-47f7-fbf2-a17657b2630f",
        "colab": {
          "base_uri": "https://localhost:8080/",
          "height": 51
        }
      },
      "source": [
        "# Example of ranking data\n",
        "l = [10, 9, 5, 7, 5]\n",
        "\n",
        "print(f'Raw data: {l}')\n",
        "print('Ranking: ', stats.rankdata(l, method='average'))"
      ],
      "execution_count": 0,
      "outputs": [
        {
          "output_type": "stream",
          "text": [
            "Raw data: [10, 9, 5, 7, 5]\n",
            "Ranking:  [5.  4.  1.5 3.  1.5]\n"
          ],
          "name": "stdout"
        }
      ]
    },
    {
      "cell_type": "markdown",
      "metadata": {
        "id": "s2_tm5aVxxFi",
        "colab_type": "text"
      },
      "source": [
        "## **Spearman Rank Correlation**\n",
        "\n",
        "### **Intuition**\n",
        "\n",
        "The intution is now that instead of looking at the relationship between the two variables, we look at the relationship between the ranks. This is robust to outliers and the scale of the data.\n",
        "\n",
        "### **Definition**\n",
        "\n",
        "The argument `method='average'` indicates that when we have a tie, we average the ranks that the numbers would occupy. For example, the two 5's above, which would take up ranks 1 and 2, each get assigned a rank of $1.5$.\n",
        "\n",
        "To compute the Spearman rank correlation for two data sets $X$ and $Y$, each of size $n$, we use the formula\n",
        "$$r_S = 1 - \\frac{6 \\sum_{i=1}^n d_i^2}{n(n^2 - 1)}$$\n",
        "\n",
        "where $d_i$ is the difference between the ranks of the $i$th pair of observations, $X_i - Y_i$.\n",
        "\n",
        "The result will always be between $-1$ and $1$. A positive value indicates a positive relationship between the variables, while a negative value indicates an inverse relationship. A value of 0 implies the absense of any monotonic relationship. This does not mean that there is no relationship; for instance, if $Y$ is equal to $X$ with a delay of 2, they are related simply and precisely, but their $r_S$ can be close to zero:"
      ]
    },
    {
      "cell_type": "markdown",
      "metadata": {
        "id": "-XKzgl9-x5P6",
        "colab_type": "text"
      },
      "source": [
        "## **Experiment**\n",
        "\n",
        "Let's see what happens if we draw $X$ from a poisson distribution (non-normal), and then set $Y = e^X + \\epsilon$ where $\\epsilon$ is drawn from another poisson distribution. We'll take the spearman rank and the correlation coefficient on this data and then run the entire experiment many times. Because $e^X$ produces many values that are far away from the rest, we can this of this as modeling 'outliers' in our data. Spearman rank compresses the outliers and does better at measuring correlation. Normal correlation is confused by the outliers and on average will measure less of a relationship than is actually there."
      ]
    },
    {
      "cell_type": "code",
      "metadata": {
        "id": "axmOYzepyQ8W",
        "colab_type": "code",
        "outputId": "aa7e9c36-ba80-4a76-99ca-0dbe026b2216",
        "colab": {
          "base_uri": "https://localhost:8080/",
          "height": 51
        }
      },
      "source": [
        "## Let's see an example of this\n",
        "n = 100\n",
        "\n",
        "def compare_correlation_and_spearman_rank(n, noise):\n",
        "  X = np.random.poisson(size = n)\n",
        "  Y = np.exp(X) + noise * np.random.normal(size = n)\n",
        "  \n",
        "  Xrank = stats.rankdata(X, method = 'average')\n",
        "  Yrank = stats.rankdata(Y, method = 'average')\n",
        "  \n",
        "  diff = Xrank - Yrank                                 # order doesn't matter since we'll be squaring these values\n",
        "  r_s = 1 - 6*sum(diff**2)/(n*(n**2-1))\n",
        "  c_c = np.corrcoef(X, Y)[0, 1]\n",
        "  \n",
        "  return r_s, c_c\n",
        "\n",
        "experiments = 100\n",
        "spearman_dist = np.ndarray(experiments)\n",
        "correlation_dist = np.ndarray(experiments)\n",
        "\n",
        "for i in range(experiments):\n",
        "  r_s, c_c = compare_correlation_and_spearman_rank(n, 1.0)\n",
        "  spearman_dist[i] = r_s\n",
        "  correlation_dist[i] = c_c\n",
        "  \n",
        "print(f'Spearman Rank Coefficient: {np.mean(spearman_dist)}')\n",
        "print(f'Correlation Coefficient: {np.mean(correlation_dist)}')"
      ],
      "execution_count": 0,
      "outputs": [
        {
          "output_type": "stream",
          "text": [
            "Spearman Rank Coefficient: 0.8758121212121214\n",
            "Correlation Coefficient: 0.7704047234104341\n"
          ],
          "name": "stdout"
        }
      ]
    },
    {
      "cell_type": "code",
      "metadata": {
        "id": "nRwCVr_5Ji0R",
        "colab_type": "code",
        "outputId": "7b67e45e-44cc-431e-e1cb-7bac1212b15e",
        "colab": {
          "base_uri": "https://localhost:8080/",
          "height": 283
        }
      },
      "source": [
        "plt.hist(spearman_dist, bins=50, alpha=0.5)\n",
        "plt.hist(correlation_dist, bins=50, alpha=0.5)\n",
        "plt.legend(['Spearman Rank', 'Regular Correlation'])\n",
        "plt.xlabel('Correlation Coefficient')\n",
        "plt.ylabel('Frequency');"
      ],
      "execution_count": 0,
      "outputs": [
        {
          "output_type": "display_data",
          "data": {
            "image/png": "[encoded data removed]",
            "text/plain": [
              "<Figure size 432x288 with 1 Axes>"
            ]
          },
          "metadata": {
            "tags": []
          }
        }
      ]
    },
    {
      "cell_type": "markdown",
      "metadata": {
        "id": "tDcMBlh-bmZC",
        "colab_type": "text"
      },
      "source": [
        "Now let's see how the Spearman rank and Regular coefficients cope when we add more noise to the situation."
      ]
    },
    {
      "cell_type": "code",
      "metadata": {
        "id": "AD4btxktRODN",
        "colab_type": "code",
        "outputId": "a8c39d70-7670-4ae9-e890-04fce6b8ef16",
        "colab": {
          "base_uri": "https://localhost:8080/",
          "height": 300
        }
      },
      "source": [
        "n = 100\n",
        "noises = np.linspace(0, 3, 30)\n",
        "experiments = 100\n",
        "spearman = np.ndarray(len(noises))\n",
        "correlation = np.ndarray(len(noises))\n",
        "\n",
        "for i in range(len(noises)):\n",
        "  # Run many experiments for each noise setting\n",
        "  ran_coef = 0.0\n",
        "  corr_coef = 0.0\n",
        "  noise = noises[i]\n",
        "  \n",
        "  for j in range(experiments):\n",
        "    r_s, c_c = compare_correlation_and_spearman_rank(n, noise)\n",
        "    ran_coef += r_s\n",
        "    corr_coef += c_c\n",
        "    \n",
        "  spearman[i] = ran_coef/experiments\n",
        "  correlation[i] = corr_coef/experiments\n",
        "    \n",
        "plt.scatter(noises, spearman, color='r')\n",
        "plt.scatter(noises, correlation)\n",
        "plt.legend(['Spearman Rank', 'Regular Correlation'])\n",
        "plt.xlabel('Amount of Noise')\n",
        "plt.ylabel('Average Correlation Coefficient')  "
      ],
      "execution_count": 0,
      "outputs": [
        {
          "output_type": "execute_result",
          "data": {
            "text/plain": [
              "Text(0, 0.5, 'Average Correlation Coefficient')"
            ]
          },
          "metadata": {
            "tags": []
          },
          "execution_count": 5
        },
        {
          "output_type": "display_data",
          "data": {
            "image/png": "[encoded data removed]",
            "text/plain": [
              "<Figure size 432x288 with 1 Axes>"
            ]
          },
          "metadata": {
            "tags": []
          }
        }
      ]
    },
    {
      "cell_type": "markdown",
      "metadata": {
        "id": "MnRtwsMCpNv4",
        "colab_type": "text"
      },
      "source": [
        "We can see that the Spearman rank correlation copes with the non-linear relationship much better at most levels of noise. Interestingly, at very high levels, it seems to do worse than regular correlation."
      ]
    },
    {
      "cell_type": "code",
      "metadata": {
        "id": "AoLybYIMcLyz",
        "colab_type": "code",
        "outputId": "2c552f9a-f8fc-4f1e-d2aa-a779bca2b96c",
        "colab": {
          "base_uri": "https://localhost:8080/",
          "height": 34
        }
      },
      "source": [
        "n = 100\n",
        "\n",
        "X = np.random.rand(n)\n",
        "Xrank = stats.rankdata(X, method='average')\n",
        "# n-2 is the second to last element\n",
        "Yrank = stats.rankdata([1,1] + list(X[:(n-2)]), method='average')\n",
        "\n",
        "diff = Xrank - Yrank\n",
        "\n",
        "r_s = 1 - 6 * sum(diff**2)/(n*(n**2-1))\n",
        "r_s"
      ],
      "execution_count": 0,
      "outputs": [
        {
          "output_type": "execute_result",
          "data": {
            "text/plain": [
              "-0.05912691269126902"
            ]
          },
          "metadata": {
            "tags": []
          },
          "execution_count": 6
        }
      ]
    },
    {
      "cell_type": "markdown",
      "metadata": {
        "id": "9tH8G1zgi7pd",
        "colab_type": "text"
      },
      "source": [
        "Sure enough, the relationship is not detected. It is important when using both regular and spearman correlation to check for lagged relationships by offsetting your data and testing for different offset values."
      ]
    },
    {
      "cell_type": "markdown",
      "metadata": {
        "id": "NkKJ9K50j7dv",
        "colab_type": "text"
      },
      "source": [
        "## **Built-In Function**\n",
        "\n",
        "We can also use the `spearmanr` function in the `scipy.stats` library:"
      ]
    },
    {
      "cell_type": "code",
      "metadata": {
        "id": "31jNioINDgoq",
        "colab_type": "code",
        "outputId": "f808cc7e-26a2-4064-c16d-311531271ad7",
        "colab": {
          "base_uri": "https://localhost:8080/",
          "height": 51
        }
      },
      "source": [
        "# Generate two random data sets\n",
        "np.random.seed(161)\n",
        "X = np.random.rand(10)\n",
        "Y = np.random.rand(10)\n",
        "\n",
        "r_s = stats.spearmanr(X, Y)\n",
        "\n",
        "print(f'Correlation: {r_s[0]}')\n",
        "print(f'P value: {r_s[1]}')"
      ],
      "execution_count": 0,
      "outputs": [
        {
          "output_type": "stream",
          "text": [
            "Correlation: 0.23636363636363633\n",
            "P value: 0.5108853175152002\n"
          ],
          "name": "stdout"
        }
      ]
    }
  ]
}