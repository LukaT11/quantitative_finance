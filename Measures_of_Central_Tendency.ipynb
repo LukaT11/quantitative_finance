{
  "nbformat": 4,
  "nbformat_minor": 0,
  "metadata": {
    "colab": {
      "name": "Measures of Central Tendency.ipynb",
      "version": "0.3.2",
      "provenance": [],
      "include_colab_link": true
    },
    "kernelspec": {
      "name": "python3",
      "display_name": "Python 3"
    }
  },
  "cells": [
    {
      "cell_type": "markdown",
      "metadata": {
        "id": "view-in-github",
        "colab_type": "text"
      },
      "source": [
        "<a href=\"https://colab.research.google.com/github/LukaT11/quantitative_finance/blob/master/Measures_of_Central_Tendency.ipynb\" target=\"_parent\"><img src=\"https://colab.research.google.com/assets/colab-badge.svg\" alt=\"Open In Colab\"/></a>"
      ]
    },
    {
      "cell_type": "markdown",
      "metadata": {
        "id": "h0del9qxhYtn",
        "colab_type": "text"
      },
      "source": [
        "# **Measures of Central Tendency**\n",
        "\n",
        "In this notebook we will discuss ways to summarize a set of data using a single number. The goal is to capture information about the distribution of data."
      ]
    },
    {
      "cell_type": "markdown",
      "metadata": {
        "id": "rop-37rShhgO",
        "colab_type": "text"
      },
      "source": [
        "## **Arithmetic mean**\n",
        "\n",
        "The arithmetic mean is used very frequently to summarize numerical data, and is usually the one assumed to be meant by the word \"average.\" It is defined as the sum of the observations divided by the number of observations:\n",
        "\n",
        "$$\\mu = \\frac{\\sum_{i=1}^N X_i}{N}$$\n",
        "\n",
        "\n",
        "where $X_1, X_2, \\ldots , X_N$ are our observations."
      ]
    },
    {
      "cell_type": "code",
      "metadata": {
        "id": "KoohKDIRiPbh",
        "colab_type": "code",
        "outputId": "cd26cd89-c147-4b41-d0cc-c9c00be5ecd1",
        "colab": {
          "base_uri": "https://localhost:8080/",
          "height": 51
        }
      },
      "source": [
        "#Two useful statistical libraries\n",
        "import scipy.stats as stats\n",
        "import numpy as np\n",
        "\n",
        "# We'll use these two data sets as examples\n",
        "x1 = [1, 2, 2, 3, 4, 5, 5, 7]\n",
        "x2 = x1 + [100]\n",
        "\n",
        "print ('Mean of x1:', sum(x1), '/', len(x1), '=', np.mean(x1))\n",
        "print ('Mean of x2:', sum(x2), '/', len(x2), '=', np.mean(x2))"
      ],
      "execution_count": 1,
      "outputs": [
        {
          "output_type": "stream",
          "text": [
            "Mean of x1: 29 / 8 = 3.625\n",
            "Mean of x2: 129 / 9 = 14.333333333333334\n"
          ],
          "name": "stdout"
        }
      ]
    },
    {
      "cell_type": "markdown",
      "metadata": {
        "id": "_9G7JMbuFJR_",
        "colab_type": "text"
      },
      "source": [
        "We can also define a <i>weighted</i> arithmetic mean, which is useful for explicitly specifying the number of times each observation should be counted. For instance, in computing the average value of a portfolio, it is more convenient to say that 70% of your stocks are of type X rather than making a list of every share you hold.\n",
        "\n",
        "The weighted arithmetic mean is defined as\n",
        "$$\\sum_{i=1}^n w_i X_i $$\n",
        "\n",
        "where $\\sum_{i=1}^n w_i = 1$. In the usual arithmetic mean, we have $w_i = 1/n$ for all $i$."
      ]
    },
    {
      "cell_type": "markdown",
      "metadata": {
        "id": "tK7P2V6GtcWz",
        "colab_type": "text"
      },
      "source": [
        "## **Median**\n",
        "\n",
        "The median of a set of data is the number which appears in the middle of the list when it is sorted in increasing or decreasing order. When we have an odd number  $n$  of data points, this is simply the value in position $ (n+1)/2$ . When we have an even number of data points, the list splits in half and there is no item in the middle; so we define the median as the average of the values in positions  $n/2$  and $ (n+2)/2$ .\n",
        "\n",
        "The median is less affected by extreme values in the data than the arithmetic mean. It tells us the value that splits the data set in half, but not how much smaller or larger the other values are."
      ]
    },
    {
      "cell_type": "code",
      "metadata": {
        "id": "NdynSkw3q5qw",
        "colab_type": "code",
        "outputId": "881eccfc-3989-4da3-b132-7088546102c3",
        "colab": {
          "base_uri": "https://localhost:8080/",
          "height": 51
        }
      },
      "source": [
        "print ('Median of x1:', np.median(x1))\n",
        "print ('Median of x2:', np.median(x2))"
      ],
      "execution_count": 2,
      "outputs": [
        {
          "output_type": "stream",
          "text": [
            "Median of x1: 3.5\n",
            "Median of x2: 4.0\n"
          ],
          "name": "stdout"
        }
      ]
    },
    {
      "cell_type": "markdown",
      "metadata": {
        "id": "_pWjW4LEumgv",
        "colab_type": "text"
      },
      "source": [
        "## **Mode**\n",
        "\n",
        "The mode is the most frequently occuring value in a data set. It can be applied to non-numerical data, unlike the mean and the median. One situation in which it is useful is for data whose possible values are independent. For example, in the outcomes of a weighted die, coming up 6 often does not mean it is likely to come up 5; so knowing that the data set has a mode of 6 is more useful than knowing it has a mean of 4.5.\n",
        "\n",
        "The important concepts here are:\n",
        "\n",
        "*   [collections.Counter](https://docs.python.org/2/library/collections.html#collections.Counter) and its [most_common](https://docs.python.org/2/library/collections.html#collections.Counter.most_common) method\n",
        "*   A [list comprehension](https://docs.python.org/2/tutorial/datastructures.html#list-comprehensions)\n",
        "\n"
      ]
    },
    {
      "cell_type": "code",
      "metadata": {
        "id": "vSZS0nOAt_iF",
        "colab_type": "code",
        "outputId": "1fd9aa16-08a4-4b0a-ca09-81b61a7905a2",
        "colab": {
          "base_uri": "https://localhost:8080/",
          "height": 51
        }
      },
      "source": [
        "# Scipy has a built-in mode function, but it will return exactly one value\n",
        "# even if two values occur the same number of times, or if no value appears more than once\n",
        "\n",
        "from collections import Counter\n",
        "\n",
        "print ('One mode of x1:', stats.mode(x1)[0][0])\n",
        "\n",
        "def mode_function2(lst):\n",
        "    counter = Counter(lst)\n",
        "    _,val = counter.most_common(1)[0]\n",
        "    print('Multiple modes: ' + str( [x for x,y in counter.items() if y == val]))\n",
        "  \n",
        "mode_function2(x1)\n",
        "\n"
      ],
      "execution_count": 3,
      "outputs": [
        {
          "output_type": "stream",
          "text": [
            "One mode of x1: 2\n",
            "Multiple modes: [2, 5]\n"
          ],
          "name": "stdout"
        }
      ]
    },
    {
      "cell_type": "markdown",
      "metadata": {
        "id": "RR2tjy9YJ1BB",
        "colab_type": "text"
      },
      "source": [
        "For data that can take on many different values, such as returns data, there may not be any values that appear more than once. In this case we can bin values, like we do when constructing a histogram, and then find the mode of the data set where each value is replaced with the name of its bin. That is, we find which bin elements fall into most often."
      ]
    },
    {
      "cell_type": "code",
      "metadata": {
        "id": "6GCsrmOlJ20D",
        "colab_type": "code",
        "colab": {}
      },
      "source": [
        "!pip install quandl"
      ],
      "execution_count": 0,
      "outputs": []
    },
    {
      "cell_type": "code",
      "metadata": {
        "id": "gGJ24kvuJ6pm",
        "colab_type": "code",
        "colab": {
          "base_uri": "https://localhost:8080/",
          "height": 34
        },
        "outputId": "3b0fe23a-a54c-44e2-9094-5315d14a2fe3"
      },
      "source": [
        "import quandl\n",
        "\n",
        "start = '2014-01-01'\n",
        "end = '2015-01-01'\n",
        "\n",
        "quandl.ApiConfig.api_key = 'xx8w-rWbjyXpygy-PN5m'\n",
        "\n",
        "data = quandl.get('WIKI/MSFT.4', start_date = start, end_date = end)\n",
        "\n",
        "returns = data.pct_change()[1:]\n",
        "\n",
        "hist, bins = np.histogram(returns, 20) # Break data up into 20 bins\n",
        "maxfreq = max(hist)\n",
        "# Find all of the bins that are hit with frequency maxfreq, then print the intervals corresponding to them\n",
        "print ('Mode of bins:', [(bins[i]) for i, j in enumerate(hist) if j == maxfreq])"
      ],
      "execution_count": 5,
      "outputs": [
        {
          "output_type": "stream",
          "text": [
            "Mode of bins: [-0.008048068531763167, -0.004092245037164856]\n"
          ],
          "name": "stdout"
        }
      ]
    }
  ]
}