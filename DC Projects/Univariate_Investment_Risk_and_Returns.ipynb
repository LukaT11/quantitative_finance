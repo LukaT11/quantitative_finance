{
  "nbformat": 4,
  "nbformat_minor": 0,
  "metadata": {
    "colab": {
      "name": "Univariate Investment Risk and Returns.ipynb",
      "provenance": [],
      "include_colab_link": true
    },
    "kernelspec": {
      "name": "python3",
      "display_name": "Python 3"
    }
  },
  "cells": [
    {
      "cell_type": "markdown",
      "metadata": {
        "id": "view-in-github",
        "colab_type": "text"
      },
      "source": [
        "<a href=\"https://colab.research.google.com/github/LukaT11/quantitative_finance/blob/master/DC%20Projects/Univariate_Investment_Risk_and_Returns.ipynb\" target=\"_parent\"><img src=\"https://colab.research.google.com/assets/colab-badge.svg\" alt=\"Open In Colab\"/></a>"
      ]
    },
    {
      "cell_type": "code",
      "metadata": {
        "id": "acflrPdfZexa",
        "colab_type": "code",
        "colab": {}
      },
      "source": [
        "!pip install quandl"
      ],
      "execution_count": 0,
      "outputs": []
    },
    {
      "cell_type": "code",
      "metadata": {
        "id": "kvaxG8_PYFdT",
        "colab_type": "code",
        "colab": {}
      },
      "source": [
        "import pandas as pd\n",
        "import quandl\n",
        "import matplotlib.pyplot as plt\n",
        "import numpy as np\n",
        "from scipy.stats import skew\n",
        "from scipy.stats import kurtosis\n",
        "from scipy.stats import shapiro"
      ],
      "execution_count": 0,
      "outputs": []
    },
    {
      "cell_type": "markdown",
      "metadata": {
        "id": "34NRbdvF3f1Z",
        "colab_type": "text"
      },
      "source": [
        "# Financial timeseries data\n",
        "\n",
        "In finance, it is common to be working with a CSV (comma-separated-values) \"flat\" file of a timeseries of many different assets with their prices, returns, or other data over time. Sometimes the data is stored in databases, but more often than not, even large banks still use spreadsheets."
      ]
    },
    {
      "cell_type": "code",
      "metadata": {
        "id": "6sPjSA0haH3X",
        "colab_type": "code",
        "outputId": "1f7cc1dc-8404-4484-ac14-0785a5fe5f19",
        "colab": {
          "base_uri": "https://localhost:8080/",
          "height": 235
        }
      },
      "source": [
        "data = quandl.get(\"WIKI/IBM\", start_date='2012-1-1', end_date='2015-6-1')\n",
        "\n",
        "data = data.sort_values(by='Date')\n",
        "data.head()"
      ],
      "execution_count": 0,
      "outputs": [
        {
          "output_type": "execute_result",
          "data": {
            "text/html": [
              "<div>\n",
              "<style scoped>\n",
              "    .dataframe tbody tr th:only-of-type {\n",
              "        vertical-align: middle;\n",
              "    }\n",
              "\n",
              "    .dataframe tbody tr th {\n",
              "        vertical-align: top;\n",
              "    }\n",
              "\n",
              "    .dataframe thead th {\n",
              "        text-align: right;\n",
              "    }\n",
              "</style>\n",
              "<table border=\"1\" class=\"dataframe\">\n",
              "  <thead>\n",
              "    <tr style=\"text-align: right;\">\n",
              "      <th></th>\n",
              "      <th>Open</th>\n",
              "      <th>High</th>\n",
              "      <th>Low</th>\n",
              "      <th>Close</th>\n",
              "      <th>Volume</th>\n",
              "      <th>Ex-Dividend</th>\n",
              "      <th>Split Ratio</th>\n",
              "      <th>Adj. Open</th>\n",
              "      <th>Adj. High</th>\n",
              "      <th>Adj. Low</th>\n",
              "      <th>Adj. Close</th>\n",
              "      <th>Adj. Volume</th>\n",
              "    </tr>\n",
              "    <tr>\n",
              "      <th>Date</th>\n",
              "      <th></th>\n",
              "      <th></th>\n",
              "      <th></th>\n",
              "      <th></th>\n",
              "      <th></th>\n",
              "      <th></th>\n",
              "      <th></th>\n",
              "      <th></th>\n",
              "      <th></th>\n",
              "      <th></th>\n",
              "      <th></th>\n",
              "      <th></th>\n",
              "    </tr>\n",
              "  </thead>\n",
              "  <tbody>\n",
              "    <tr>\n",
              "      <th>2012-01-03</th>\n",
              "      <td>186.73</td>\n",
              "      <td>188.71</td>\n",
              "      <td>186.00</td>\n",
              "      <td>186.30</td>\n",
              "      <td>5646000.0</td>\n",
              "      <td>0.0</td>\n",
              "      <td>1.0</td>\n",
              "      <td>157.942079</td>\n",
              "      <td>159.616825</td>\n",
              "      <td>157.324622</td>\n",
              "      <td>157.578371</td>\n",
              "      <td>5646000.0</td>\n",
              "    </tr>\n",
              "    <tr>\n",
              "      <th>2012-01-04</th>\n",
              "      <td>185.57</td>\n",
              "      <td>186.33</td>\n",
              "      <td>184.94</td>\n",
              "      <td>185.54</td>\n",
              "      <td>4346700.0</td>\n",
              "      <td>0.0</td>\n",
              "      <td>1.0</td>\n",
              "      <td>156.960915</td>\n",
              "      <td>157.603746</td>\n",
              "      <td>156.428041</td>\n",
              "      <td>156.935540</td>\n",
              "      <td>4346700.0</td>\n",
              "    </tr>\n",
              "    <tr>\n",
              "      <th>2012-01-05</th>\n",
              "      <td>184.81</td>\n",
              "      <td>185.03</td>\n",
              "      <td>183.10</td>\n",
              "      <td>184.66</td>\n",
              "      <td>4463100.0</td>\n",
              "      <td>0.0</td>\n",
              "      <td>1.0</td>\n",
              "      <td>156.318083</td>\n",
              "      <td>156.504166</td>\n",
              "      <td>154.871711</td>\n",
              "      <td>156.191208</td>\n",
              "      <td>4463100.0</td>\n",
              "    </tr>\n",
              "    <tr>\n",
              "      <th>2012-01-06</th>\n",
              "      <td>184.39</td>\n",
              "      <td>184.48</td>\n",
              "      <td>182.31</td>\n",
              "      <td>182.54</td>\n",
              "      <td>4897100.0</td>\n",
              "      <td>0.0</td>\n",
              "      <td>1.0</td>\n",
              "      <td>155.962834</td>\n",
              "      <td>156.038958</td>\n",
              "      <td>154.203505</td>\n",
              "      <td>154.398046</td>\n",
              "      <td>4897100.0</td>\n",
              "    </tr>\n",
              "    <tr>\n",
              "      <th>2012-01-09</th>\n",
              "      <td>182.20</td>\n",
              "      <td>182.27</td>\n",
              "      <td>180.27</td>\n",
              "      <td>181.59</td>\n",
              "      <td>5201200.0</td>\n",
              "      <td>0.0</td>\n",
              "      <td>1.0</td>\n",
              "      <td>154.110463</td>\n",
              "      <td>154.169671</td>\n",
              "      <td>152.478009</td>\n",
              "      <td>153.594506</td>\n",
              "      <td>5201200.0</td>\n",
              "    </tr>\n",
              "  </tbody>\n",
              "</table>\n",
              "</div>"
            ],
            "text/plain": [
              "              Open    High     Low  ...    Adj. Low  Adj. Close  Adj. Volume\n",
              "Date                                ...                                     \n",
              "2012-01-03  186.73  188.71  186.00  ...  157.324622  157.578371    5646000.0\n",
              "2012-01-04  185.57  186.33  184.94  ...  156.428041  156.935540    4346700.0\n",
              "2012-01-05  184.81  185.03  183.10  ...  154.871711  156.191208    4463100.0\n",
              "2012-01-06  184.39  184.48  182.31  ...  154.203505  154.398046    4897100.0\n",
              "2012-01-09  182.20  182.27  180.27  ...  152.478009  153.594506    5201200.0\n",
              "\n",
              "[5 rows x 12 columns]"
            ]
          },
          "metadata": {
            "tags": []
          },
          "execution_count": 3
        }
      ]
    },
    {
      "cell_type": "markdown",
      "metadata": {
        "id": "mAxWbmD54omV",
        "colab_type": "text"
      },
      "source": [
        "## Calculating financial returns\n",
        "\n",
        "The Adjusted Close column is the most important. It is normalized for stock splits, dividends, and other corporate actions, and is a true reflection of the return of the stock over time. "
      ]
    },
    {
      "cell_type": "code",
      "metadata": {
        "id": "zd_lAtMC4eRa",
        "colab_type": "code",
        "outputId": "36eb3f7c-01e9-416d-e8ed-6c9f029743e5",
        "colab": {
          "base_uri": "https://localhost:8080/",
          "height": 277
        }
      },
      "source": [
        "data[\"Returns\"] = data['Adj. Close'].pct_change()\n",
        "\n",
        "data['Returns'].plot()\n",
        "plt.show()"
      ],
      "execution_count": 0,
      "outputs": [
        {
          "output_type": "display_data",
          "data": {
            "image/png": "[encoded data removed]",
            "text/plain": [
              "<Figure size 432x288 with 1 Axes>"
            ]
          },
          "metadata": {
            "tags": []
          }
        }
      ]
    },
    {
      "cell_type": "markdown",
      "metadata": {
        "id": "5wswGarP4-XX",
        "colab_type": "text"
      },
      "source": [
        "## Return distributions\n",
        "\n",
        "In order to analyze the probability of outliers in returns, it is helpful to visualize the historical returns of a stock using a histogram."
      ]
    },
    {
      "cell_type": "code",
      "metadata": {
        "id": "tFjA5YxZa7Kg",
        "colab_type": "code",
        "outputId": "293e23d2-fb59-46d1-dae4-bee49158d355",
        "colab": {
          "base_uri": "https://localhost:8080/",
          "height": 265
        }
      },
      "source": [
        "percent_return = data['Returns']*100\n",
        "returns_plot = percent_return.dropna()\n",
        "plt.hist(returns_plot, bins=75)\n",
        "plt.show()"
      ],
      "execution_count": 0,
      "outputs": [
        {
          "output_type": "display_data",
          "data": {
            "image/png": "[encoded data removed]",
            "text/plain": [
              "<Figure size 432x288 with 1 Axes>"
            ]
          },
          "metadata": {
            "tags": []
          }
        }
      ]
    },
    {
      "cell_type": "markdown",
      "metadata": {
        "id": "HS5zbhdeqZ95",
        "colab_type": "text"
      },
      "source": [
        "## Mu\n",
        "\n",
        "You can calculate the average historical return of a stock by using numpy's `mean()` function."
      ]
    },
    {
      "cell_type": "code",
      "metadata": {
        "id": "MeTJ6TMNbB1l",
        "colab_type": "code",
        "outputId": "3e451abd-2210-483f-f49f-49d59625717f",
        "colab": {
          "base_uri": "https://localhost:8080/",
          "height": 34
        }
      },
      "source": [
        "mean_return_daily = np.mean(data['Returns'])\n",
        "print(mean_return_daily)"
      ],
      "execution_count": 0,
      "outputs": [
        {
          "output_type": "stream",
          "text": [
            "4.329666130413714e-05\n"
          ],
          "name": "stdout"
        }
      ]
    },
    {
      "cell_type": "markdown",
      "metadata": {
        "id": "wQrYLJg4qypD",
        "colab_type": "text"
      },
      "source": [
        "You can use the formula below to estimate the average annual return of a stock given the average daily return and the number of trading days in a year (typically there are roughly 252 trading days in a year):\n",
        "\\begin{equation*}\n",
        "Average Annualized Return=((1+μ)^{252})−1\n",
        "\\end{equation*}"
      ]
    },
    {
      "cell_type": "code",
      "metadata": {
        "id": "MHxZI8U9ephx",
        "colab_type": "code",
        "outputId": "c5249b97-801c-4139-b44b-aaf01980668b",
        "colab": {
          "base_uri": "https://localhost:8080/",
          "height": 34
        }
      },
      "source": [
        "mean_return_annualized = ((1+mean_return_daily)**252)-1\n",
        "print(mean_return_annualized)"
      ],
      "execution_count": 0,
      "outputs": [
        {
          "output_type": "stream",
          "text": [
            "0.01097025926147599\n"
          ],
          "name": "stdout"
        }
      ]
    },
    {
      "cell_type": "markdown",
      "metadata": {
        "id": "UUk5Qj5Yr9jo",
        "colab_type": "text"
      },
      "source": [
        "## Variance\n",
        "\n",
        "Just like you estimated the first moment of the returns distribution in the last exercise, you can can also estimate the second moment, or variance of a return distribution using `numpy`.\n",
        "\n",
        "In this case, you will first need to calculate the daily standard deviation ( σ ), or volatility of the returns using `np.std()`. The variance is simply σ2."
      ]
    },
    {
      "cell_type": "code",
      "metadata": {
        "id": "tErV5QY4exjO",
        "colab_type": "code",
        "outputId": "350b9974-5e0a-4327-8e25-b597dfa212db",
        "colab": {
          "base_uri": "https://localhost:8080/",
          "height": 34
        }
      },
      "source": [
        "sigma_daily = np.std(data['Returns'])\n",
        "print(sigma_daily)"
      ],
      "execution_count": 0,
      "outputs": [
        {
          "output_type": "stream",
          "text": [
            "0.011099575185170279\n"
          ],
          "name": "stdout"
        }
      ]
    },
    {
      "cell_type": "code",
      "metadata": {
        "id": "igigm3MifBjN",
        "colab_type": "code",
        "outputId": "89028e3d-a574-489d-80bb-4e983fe90550",
        "colab": {
          "base_uri": "https://localhost:8080/",
          "height": 34
        }
      },
      "source": [
        "variance_daily = sigma_daily**2\n",
        "print(variance_daily)"
      ],
      "execution_count": 0,
      "outputs": [
        {
          "output_type": "stream",
          "text": [
            "0.00012320056929124784\n"
          ],
          "name": "stdout"
        }
      ]
    },
    {
      "cell_type": "markdown",
      "metadata": {
        "id": "ith5WfEOtUyI",
        "colab_type": "text"
      },
      "source": [
        "## Annualizing variance\n",
        "\n",
        "You can't annualize the variance in the same way that you annualized the mean.\n",
        "\n",
        "In this case, you will need to multiply σ by the square root of the number of trading days in a year. There are typically 252 trading days in a calendar year. Let's assume this is the case for this exercise.\n",
        "\n",
        "This will get you the annualized volatility, but to get annualized variance, you'll need to square the annualized volatility just like you did for the daily calculation."
      ]
    },
    {
      "cell_type": "code",
      "metadata": {
        "id": "57D_OY65fCmV",
        "colab_type": "code",
        "outputId": "155c5aea-e676-4790-be36-4c2ef8abc8c0",
        "colab": {
          "base_uri": "https://localhost:8080/",
          "height": 34
        }
      },
      "source": [
        "sigma_annualized = sigma_daily*np.sqrt(252)\n",
        "print(sigma_annualized)"
      ],
      "execution_count": 0,
      "outputs": [
        {
          "output_type": "stream",
          "text": [
            "0.17620029359054556\n"
          ],
          "name": "stdout"
        }
      ]
    },
    {
      "cell_type": "code",
      "metadata": {
        "id": "-h5Bgt5rfd7r",
        "colab_type": "code",
        "outputId": "01593085-063f-40ec-c479-54a4ddeefc73",
        "colab": {
          "base_uri": "https://localhost:8080/",
          "height": 34
        }
      },
      "source": [
        "variance_annualized = sigma_annualized**2\n",
        "print(variance_annualized)"
      ],
      "execution_count": 0,
      "outputs": [
        {
          "output_type": "stream",
          "text": [
            "0.031046543461394453\n"
          ],
          "name": "stdout"
        }
      ]
    },
    {
      "cell_type": "markdown",
      "metadata": {
        "id": "SwQFbbTLt2Lt",
        "colab_type": "text"
      },
      "source": [
        "## Skewness\n",
        "\n",
        "To calculate the third moment, or skewness of a returns distribution in Python, you can use the `skew()` function from `\n",
        "scipy.stats`.\n",
        "\n",
        "Remember that a negative skew is a right-leaning curve, while positive skew is a left-leaning curve. In finance, you would tend to want positive skewness, as this would mean that the probability of large positive returns is unusually high, and the negative returns are more closely clustered and predictable."
      ]
    },
    {
      "cell_type": "code",
      "metadata": {
        "id": "aiqQkllLffA_",
        "colab_type": "code",
        "colab": {}
      },
      "source": [
        "clean_returns = data['Returns'].dropna()"
      ],
      "execution_count": 0,
      "outputs": []
    },
    {
      "cell_type": "code",
      "metadata": {
        "id": "Gg_MzcT4giev",
        "colab_type": "code",
        "outputId": "8b67b725-615f-46af-8bdf-7f1fbcc0b2e9",
        "colab": {
          "base_uri": "https://localhost:8080/",
          "height": 34
        }
      },
      "source": [
        "returns_skewness = skew(clean_returns)\n",
        "print(returns_skewness)"
      ],
      "execution_count": 0,
      "outputs": [
        {
          "output_type": "stream",
          "text": [
            "-0.867065885228463\n"
          ],
          "name": "stdout"
        }
      ]
    },
    {
      "cell_type": "markdown",
      "metadata": {
        "id": "wkF85l0tuGuz",
        "colab_type": "text"
      },
      "source": [
        "## Kurtosis\n",
        "\n",
        "Finally, to calculate the fourth moment of a distribution, you can use the `kurtosis()` function from `scipy.stats`.\n",
        "\n",
        "Note that this function actually returns the excess kurtosis, not the 4th moment itself. In order to calculate kurtosis, simply add 3 to the excess kurtosis returned by `kurtosis()`."
      ]
    },
    {
      "cell_type": "code",
      "metadata": {
        "id": "xxtcvavlgj3g",
        "colab_type": "code",
        "outputId": "a104fe02-31b9-4051-d1ff-6c7caa44a4d3",
        "colab": {
          "base_uri": "https://localhost:8080/",
          "height": 34
        }
      },
      "source": [
        "excess_kurtosis = kurtosis(clean_returns)\n",
        "print(excess_kurtosis)"
      ],
      "execution_count": 0,
      "outputs": [
        {
          "output_type": "stream",
          "text": [
            "7.582133463149487\n"
          ],
          "name": "stdout"
        }
      ]
    },
    {
      "cell_type": "code",
      "metadata": {
        "id": "5p-k3lQYgslo",
        "colab_type": "code",
        "outputId": "e1e535ba-faa1-4525-e9b0-359e867f2a0f",
        "colab": {
          "base_uri": "https://localhost:8080/",
          "height": 34
        }
      },
      "source": [
        "fourth_moment = excess_kurtosis + 3\n",
        "print(fourth_moment)"
      ],
      "execution_count": 0,
      "outputs": [
        {
          "output_type": "stream",
          "text": [
            "10.582133463149487\n"
          ],
          "name": "stdout"
        }
      ]
    },
    {
      "cell_type": "markdown",
      "metadata": {
        "id": "itWY_hz-uTv3",
        "colab_type": "text"
      },
      "source": [
        "## Statistical tests for normality\n",
        "\n",
        "In order to truly be confident in your judgement of the normality of the stock's return distribution, you will want to use a true statistical test rather than simply examining the kurtosis or skewness.\n",
        "\n",
        "You can use the `shapiro()` function from `scipy.stats` to run a Shapiro-Wilk test of normality on the stock returns. The function will return two values in a list. The first value is the t-stat of the test, and the second value is the p-value. You can use the p-value to make a judgement about the normality of the data. If the p-value is less than or equal to 0.05, you can safely reject the null hypothesis of normality and assume that the data are non-normally distributed."
      ]
    },
    {
      "cell_type": "code",
      "metadata": {
        "id": "f-4_kXCtgtme",
        "colab_type": "code",
        "outputId": "21cbcfaa-81e0-48b1-81cb-dffe411543d9",
        "colab": {
          "base_uri": "https://localhost:8080/",
          "height": 34
        }
      },
      "source": [
        "shapiro_results = shapiro(clean_returns)\n",
        "print(\"Shapiro results:\", shapiro_results)"
      ],
      "execution_count": 0,
      "outputs": [
        {
          "output_type": "stream",
          "text": [
            "Shapiro results: (0.928106963634491, 8.053507345763851e-20)\n"
          ],
          "name": "stdout"
        }
      ]
    },
    {
      "cell_type": "code",
      "metadata": {
        "id": "5ahQaGNug1dG",
        "colab_type": "code",
        "outputId": "2b909b69-5837-4a44-9a9f-97f573eae594",
        "colab": {
          "base_uri": "https://localhost:8080/",
          "height": 34
        }
      },
      "source": [
        "p_value = shapiro_results[1]\n",
        "print(\"P-value: \", p_value)"
      ],
      "execution_count": 0,
      "outputs": [
        {
          "output_type": "stream",
          "text": [
            "P-value:  8.053507345763851e-20\n"
          ],
          "name": "stdout"
        }
      ]
    }
  ]
}