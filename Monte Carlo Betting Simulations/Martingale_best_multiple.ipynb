{
  "nbformat": 4,
  "nbformat_minor": 0,
  "metadata": {
    "colab": {
      "name": "Martingale best multiple.ipynb",
      "version": "0.3.2",
      "provenance": [],
      "include_colab_link": true
    },
    "kernelspec": {
      "name": "python3",
      "display_name": "Python 3"
    }
  },
  "cells": [
    {
      "cell_type": "markdown",
      "metadata": {
        "id": "view-in-github",
        "colab_type": "text"
      },
      "source": [
        "<a href=\"https://colab.research.google.com/github/LukaT11/quantitative_finance/blob/master/Monte%20Carlo%20Betting%20Simulations/Martingale_best_multiple.ipynb\" target=\"_parent\"><img src=\"https://colab.research.google.com/assets/colab-badge.svg\" alt=\"Open In Colab\"/></a>"
      ]
    },
    {
      "cell_type": "markdown",
      "metadata": {
        "id": "SRKaQdSsDt71",
        "colab_type": "text"
      },
      "source": [
        "# **Monte Carlo Simulation**\n",
        "Monte carlo simulators are often used to assess the risk of a given trading strategy say with options or stocks.\n",
        "\n",
        "Monte carlo simulators can help drive the point home that success and outcome is not the only measure of whether or not a choice was good or not. Choices should not be assesed after their outcome. Instead, the risks and benefits should only be considered at the time the decision was made, without hindsight bias. A monte carlo simulator can help one visualize most or all of the potential outcomes to have a much better idea regarding the risk of a decision."
      ]
    },
    {
      "cell_type": "code",
      "metadata": {
        "id": "Zz-pqAGjDoaF",
        "colab_type": "code",
        "colab": {}
      },
      "source": [
        "import random\n",
        "import matplotlib\n",
        "import matplotlib.pyplot as plt\n",
        "import time\n",
        "from tqdm import tqdm\n",
        "import numpy as np"
      ],
      "execution_count": 0,
      "outputs": []
    },
    {
      "cell_type": "markdown",
      "metadata": {
        "id": "OLmCbMTKDzbF",
        "colab_type": "text"
      },
      "source": [
        "Let's consider a basic example. Here, we will consider a gambling scenario, where a user can \"roll\" the metaphorical dice for an outcome of 1 to 100.\n",
        "\n",
        "If the user rolls anything from 1-50, the \"house\" wins. If the user rolls anything from 51 to 99, the \"user\" wins. If the user rolls a 100, they lose.\n",
        "With this, the house maintains a mere 1% edge, which is much smaller than the typical house edge, as well as the market edge when incorporating trading costs."
      ]
    },
    {
      "cell_type": "code",
      "metadata": {
        "id": "TIehkHPvDwMJ",
        "colab_type": "code",
        "colab": {}
      },
      "source": [
        "def rollDice():\n",
        "    \n",
        "    roll = random.randint(1,100)\n",
        "\n",
        "    if roll == 100:\n",
        "        #print (roll,' roll was 100, you lose. What are the odds?! Play again!')\n",
        "        return False\n",
        "        \n",
        "    elif roll <= 50:\n",
        "        #print (roll, ' roll was 1-50, you lose.')\n",
        "        return False\n",
        "    \n",
        "    elif 100 > roll >= 51:\n",
        "        #print (roll, ' roll was 51-99, you win! *pretty lights flash* (play more!')\n",
        "        return True"
      ],
      "execution_count": 0,
      "outputs": []
    },
    {
      "cell_type": "markdown",
      "metadata": {
        "id": "DP8ZZCo8GFo4",
        "colab_type": "text"
      },
      "source": [
        "\n",
        "## **Martingale**\n",
        "is any of a class of betting strategies that originated from and were popular in 18th century France. The simplest of these strategies was designed for a game in which the gambler wins the stake if a coin comes up heads and loses it if the coin comes up tails. The strategy had the gambler double the bet after every loss, so that the first win would recover all previous losses plus win a profit equal to the original stake. The martingale strategy has been applied to roulette as well, as the probability of hitting either red or black is close to 50%.\n",
        "\n",
        "Since a gambler with infinite wealth will, almost surely, eventually flip heads, the martingale betting strategy was seen as a sure thing by those who advocated it. None of the gamblers possessed infinite wealth, and the exponential growth of the bets would eventually bankrupt \"unlucky\" gamblers who chose to use the martingale. The gambler usually wins a small net reward, thus appearing to have a sound strategy. However, the gambler's expected value does indeed remain zero (or less than zero) because the small probability that the gambler will suffer a catastrophic loss exactly balances with the expected gain. (In a casino, the expected value is negative, due to the house's edge.) The likelihood of catastrophic loss may not even be very small. The bet size rises exponentially. This, combined with the fact that strings of consecutive losses actually occur more often than common intuition suggests, can bankrupt a gambler quickly.\n",
        "\n",
        "The question is, is the Martingale multple of 2 the best and can we find a better one?"
      ]
    },
    {
      "cell_type": "code",
      "metadata": {
        "id": "zKx1vAqTD2tg",
        "colab_type": "code",
        "colab": {}
      },
      "source": [
        "def multiple_bettor(funds, initial_wager, wager_count, random_multiple):\n",
        "  \n",
        "    global multiple_busts\n",
        "    global multiple_profits\n",
        "    \n",
        "    value = funds\n",
        "    wager = initial_wager\n",
        "    \n",
        "    wX = []\n",
        "    vY = []\n",
        "    \n",
        "    currentWager = 1\n",
        "    \n",
        "    previousWager = 'win'\n",
        "    \n",
        "    previousWagerAmmount = initial_wager\n",
        "    \n",
        "    while currentWager <= wager_count:\n",
        "        if previousWager == 'win':\n",
        "            #print ('we wont last wager, yay')\n",
        "            if rollDice():\n",
        "                value += wager\n",
        "                #print (value)\n",
        "                wX.append(currentWager)\n",
        "                vY.append(value)\n",
        "                \n",
        "            else:\n",
        "                value -= wager\n",
        "                previousWager = 'loss'\n",
        "                previousWagerAmmount = wager\n",
        "                #print (value)\n",
        "                wX.append(currentWager)\n",
        "                vY.append(value)\n",
        "                if value <= 0:\n",
        "                    #print ('we went broker after, ',currentWager,' wagers')\n",
        "                    multiple_busts += 1\n",
        "                    break\n",
        "                \n",
        "        elif previousWager == 'loss':\n",
        "            #print ('we lost the last one, so we will be super smart & double up!')\n",
        "            if rollDice():\n",
        "                wager = previousWagerAmmount * random_multiple\n",
        "                if (value - wager) < 0:\n",
        "                    wager = value\n",
        "                value += wager\n",
        "                #print (value)\n",
        "                wager = initial_wager\n",
        "                previousWager = 'win'\n",
        "                wX.append(currentWager)\n",
        "                vY.append(value)\n",
        "                \n",
        "            else:\n",
        "                wager = previousWagerAmmount * random_multiple\n",
        "                if (value - wager) < 0:\n",
        "                    wager = value\n",
        "                value -= wager\n",
        "                #print(value)\n",
        "                previousWagerAmmount = wager\n",
        "                previousWager = 'loss'\n",
        "                wX.append(currentWager)\n",
        "                vY.append(value)\n",
        "                if value <= 0:\n",
        "                    #print ('we went broker after, ',currentWager,' wagers')\n",
        "                    multiple_busts += 1\n",
        "                    break\n",
        "   \n",
        "        currentWager += 1\n",
        "\n",
        "    #print (value)\n",
        "    #plt.plot(wX,vY)\n",
        "    \n",
        "    if value > funds:\n",
        "        multiple_profits += 1"
      ],
      "execution_count": 0,
      "outputs": []
    },
    {
      "cell_type": "markdown",
      "metadata": {
        "id": "yMnfmFRmGyoU",
        "colab_type": "text"
      },
      "source": [
        "## **Simulation**\n",
        "Lets simulate 100 different multiples in range between 1 and 3, each multiple will be simulated with 10.000 bettors, starting with 10.000USD, betting 100USD starting wager per hand and betting 100 times. Once we find a multiple giving better results than the multiple 2, we will print it out."
      ]
    },
    {
      "cell_type": "code",
      "metadata": {
        "id": "iT8XJI4qD6Jv",
        "colab_type": "code",
        "colab": {
          "base_uri": "https://localhost:8080/",
          "height": 326
        },
        "outputId": "286430cf-81a8-406f-d623-7a930ded537b"
      },
      "source": [
        "sample_size = 10000\n",
        "\n",
        "startingFunds = 10000\n",
        "wagerSize = 100\n",
        "wagerCount = 100\n",
        "\n",
        "lower_bust = 31.235\n",
        "higher_profit = 63.208\n",
        "\n",
        "for i in tqdm(np.linspace(1,3,100)):\n",
        "    \n",
        "    multiple_busts = 0.0\n",
        "    multiple_profits = 0.0\n",
        "\n",
        "    random_multiple = i\n",
        "\n",
        "    for j in range(sample_size):\n",
        "        multiple_bettor(startingFunds,wagerSize,wagerCount, random_multiple)\n",
        "        \n",
        "    if ((multiple_profits/sample_size) * 100) > higher_profit and ((multiple_busts/sample_size) * 100) < lower_bust:\n",
        "\n",
        "        print('##############################################################################################################')\n",
        "        print(f'Found a winning multiple: {random_multiple}')\n",
        "        print(f'Lower bust rate to beat: {lower_bust}')\n",
        "        print(f'Higer profit rate to beat: {higher_profit}')\n",
        "        print(f'Multiple Bettor profit chance: {(multiple_profits/sample_size) * 100}')\n",
        "        print(f'Multiple Bettor loss chance: {((sample_size - (multiple_profits + multiple_busts))/sample_size) * 100}')\n",
        "        print(f'Multiple Bettor bust chance: {(multiple_busts/sample_size) * 100}')\n",
        "        print('##############################################################################################################')\n",
        "        \n",
        "        lower_bust = (multiple_busts/sample_size) * 100\n",
        "        higher_profit = (multiple_profits/sample_size) * 100"
      ],
      "execution_count": 4,
      "outputs": [
        {
          "output_type": "stream",
          "text": [
            " 31%|███       | 31/100 [01:13<02:38,  2.30s/it]"
          ],
          "name": "stderr"
        },
        {
          "output_type": "stream",
          "text": [
            "##############################################################################################################\n",
            "Found a winning multiple: 1.606060606060606\n",
            "Lower bust rate to beat: 31.235\n",
            "Higer profit rate to beat: 63.208\n",
            "Multiple Bettor profit chance: 63.61\n",
            "Multiple Bettor loss chance: 25.55\n",
            "Multiple Bettor bust chance: 10.84\n",
            "##############################################################################################################\n"
          ],
          "name": "stdout"
        },
        {
          "output_type": "stream",
          "text": [
            "\r 32%|███▏      | 32/100 [01:16<02:40,  2.36s/it]"
          ],
          "name": "stderr"
        },
        {
          "output_type": "stream",
          "text": [
            "##############################################################################################################\n",
            "Found a winning multiple: 1.6262626262626263\n",
            "Lower bust rate to beat: 10.84\n",
            "Higer profit rate to beat: 63.61\n",
            "Multiple Bettor profit chance: 65.84\n",
            "Multiple Bettor loss chance: 23.66\n",
            "Multiple Bettor bust chance: 10.5\n",
            "##############################################################################################################\n"
          ],
          "name": "stdout"
        },
        {
          "output_type": "stream",
          "text": [
            "100%|██████████| 100/100 [03:20<00:00,  1.42s/it]\n"
          ],
          "name": "stderr"
        }
      ]
    }
  ]
}