{
  "nbformat": 4,
  "nbformat_minor": 0,
  "metadata": {
    "colab": {
      "name": "Instability of Parameter Estimates.ipynb",
      "version": "0.3.2",
      "provenance": [],
      "include_colab_link": true
    },
    "kernelspec": {
      "name": "python3",
      "display_name": "Python 3"
    }
  },
  "cells": [
    {
      "cell_type": "markdown",
      "metadata": {
        "id": "view-in-github",
        "colab_type": "text"
      },
      "source": [
        "<a href=\"https://colab.research.google.com/github/LukaT11/quantitative_finance/blob/master/Instability_of_Parameter_Estimates.ipynb\" target=\"_parent\"><img src=\"https://colab.research.google.com/assets/colab-badge.svg\" alt=\"Open In Colab\"/></a>"
      ]
    },
    {
      "cell_type": "markdown",
      "metadata": {
        "id": "pag958rwB0D8",
        "colab_type": "text"
      },
      "source": [
        "# **Instability of Parameter Estimates**"
      ]
    },
    {
      "cell_type": "markdown",
      "metadata": {
        "id": "D0QTwZ7bB_18",
        "colab_type": "text"
      },
      "source": [
        "## **Parameters**\n",
        "A parameter is anything that a model uses to constrain its predictions. Commonly, a parameter is a quantity that helps to describe a data set or a distribution. For example, the mean of a normal distribution is a parameter; in fact, we say that a normal distribution is parametrized by its mean and variance. If we take the mean of a set of samples drawn from the normal distribution, we get an estimate of the mean of the distribution. Similarly, the mean of a set of observations is an estimate of the parameter of the underlying distribution (which is often assumed to be normal). Other parameters include the median, the correlation coefficient to another series, the standard deviation, and every other measurement of a data set.\n",
        "\n",
        "## **You Never Know, You Only Estimate**\n",
        "When you take the mean of a data set, you do not know the mean. You have estimated the mean as best you can from the data you have. The estimate can be off. This is true of any parameter you estimate. To actually understand what is going on you need to determine how good your estimate is by looking at its stability/standard error/confidence intervals.\n",
        "\n",
        "## **Instability of estimates**\n",
        "Whenever we consider a set of observations, our calculation of a parameter can only be an estimate. It will change as we take more measurements or as time passes and we get new observations. We can quantify the uncertainty in our estimate by looking at how the parameter changes as we look at different subsets of the data. For instance, standard deviation describes how different the mean of a set is from the mean of each observation, that is, from each observation itself. In financial applications, data often comes in time series. In this case, we can estimate a parameter at different points in time; say, for the previous 30 days. By looking at how much this moving estimate fluctuates as we change our time window, we can compute the instability of the estimated parameter."
      ]
    },
    {
      "cell_type": "code",
      "metadata": {
        "id": "nTRZrWEuBy9S",
        "colab_type": "code",
        "colab": {}
      },
      "source": [
        "# We'll be doing some examples, so let's import the libraries we'll need\n",
        "import numpy as np\n",
        "import matplotlib.pyplot as plt\n",
        "import pandas as pd"
      ],
      "execution_count": 0,
      "outputs": []
    },
    {
      "cell_type": "markdown",
      "metadata": {
        "id": "RuDZQn0ZFlzo",
        "colab_type": "text"
      },
      "source": [
        "## **Example: mean and standard deviation**\n",
        "First, let's take a look at some samples from a normal distribution. We know that the mean of the distribution is 0 and the standard deviation is 1; but if we measure the parameters from our observations, we will get only approximately 0 and approximately 1. We can see how these estimates change as we take more and more samples:"
      ]
    },
    {
      "cell_type": "code",
      "metadata": {
        "id": "m9SdA7UfFj33",
        "colab_type": "code",
        "outputId": "08c790d6-ff61-47f5-d867-40bb4edf4fe6",
        "colab": {
          "base_uri": "https://localhost:8080/",
          "height": 368
        }
      },
      "source": [
        "np.random.seed(123)\n",
        "normal = np.random.randn(500)\n",
        "\n",
        "print(np.mean(normal[:10]))\n",
        "print(np.mean(normal[:100]))\n",
        "print(np.mean(normal[:250]))\n",
        "print(np.mean(normal))\n",
        "\n",
        "plt.hist([normal[:10], normal[:100], normal[:250], normal], stacked=True)\n",
        "plt.xlabel('Value')\n",
        "plt.ylabel('Frequency')"
      ],
      "execution_count": 2,
      "outputs": [
        {
          "output_type": "stream",
          "text": [
            "-0.26951611032632805\n",
            "0.027109073490359778\n",
            "-0.020616059111720507\n",
            "-0.038643973513210604\n"
          ],
          "name": "stdout"
        },
        {
          "output_type": "execute_result",
          "data": {
            "text/plain": [
              "Text(0, 0.5, 'Frequency')"
            ]
          },
          "metadata": {
            "tags": []
          },
          "execution_count": 2
        },
        {
          "output_type": "display_data",
          "data": {
            "image/png": "[encoded data removed]",
            "text/plain": [
              "<Figure size 432x288 with 1 Axes>"
            ]
          },
          "metadata": {
            "tags": []
          }
        }
      ]
    },
    {
      "cell_type": "code",
      "metadata": {
        "id": "FjE-PkXnFqpo",
        "colab_type": "code",
        "outputId": "297d5b6e-4317-4169-f261-7158894796e1",
        "colab": {
          "base_uri": "https://localhost:8080/",
          "height": 85
        }
      },
      "source": [
        "print(np.std(normal[:10]))\n",
        "print(np.std(normal[:100]))\n",
        "print(np.std(normal[:250]))\n",
        "print(np.std(normal))"
      ],
      "execution_count": 3,
      "outputs": [
        {
          "output_type": "stream",
          "text": [
            "1.236304801499023\n",
            "1.128240470477961\n",
            "1.0174604368340197\n",
            "1.0032028561568238\n"
          ],
          "name": "stdout"
        }
      ]
    },
    {
      "cell_type": "markdown",
      "metadata": {
        "id": "qplujPEKIG6x",
        "colab_type": "text"
      },
      "source": [
        "Notice that, although the probability of getting closer to 0 and 1 for the mean and standard deviation, respectively, increases with the number of samples, we do not always get better estimates by taking more data points. Whatever our expectation is, we can always get a different result, and our goal is often to compute the probability that the result is significantly different than expected.\n",
        "\n",
        "With time series data, we usually care only about contiguous subsets of the data. The moving average (also called running or rolling) assigns the mean of the previous  n  data points to each point in time. Below, we compute the 90-day moving average of a stock price and plot it to see how it changes. There is no result in the beginning because we first have to accumulate at least 90 days of data.\n",
        "\n",
        "## **Example: Non-Normal Underlying Distribution**\n",
        "What happens if the underlying data isn't normal? A mean will be very deceptive. Because of this it's important to test for normality of your data. We'll use a Jarque-Bera test as an example."
      ]
    },
    {
      "cell_type": "code",
      "metadata": {
        "id": "CwtvRRquHuAE",
        "colab_type": "code",
        "outputId": "e1866e7f-9261-43e1-db62-379ed5e47169",
        "colab": {
          "base_uri": "https://localhost:8080/",
          "height": 317
        }
      },
      "source": [
        "#Generate some data from a bi-modal distribution\n",
        "\n",
        "def bimodal(n):\n",
        "  x = np.zeros(n)\n",
        "  \n",
        "  for i in range(n):\n",
        "    if np.random.binomial(1, 0.5) == 0:\n",
        "      x[i] = np.random.normal(-5, 1)\n",
        "    else:\n",
        "      x[i] = np.random.normal(5, 1)\n",
        "      \n",
        "  return x\n",
        "\n",
        "x = bimodal(500000)\n",
        "\n",
        "plt.hist(x, bins = 100)\n",
        "plt.ylabel('Frequency')\n",
        "plt.xlabel('Value')\n",
        "\n",
        "print(f'Mean: {np.mean(x)}')\n",
        "print(f'Standard Devaiation: {np.std(x)}')"
      ],
      "execution_count": 4,
      "outputs": [
        {
          "output_type": "stream",
          "text": [
            "Mean: 0.0048377625019577165\n",
            "Standard Devaiation: 5.100359151644984\n"
          ],
          "name": "stdout"
        },
        {
          "output_type": "display_data",
          "data": {
            "image/png": "[encoded data removed]",
            "text/plain": [
              "<Figure size 432x288 with 1 Axes>"
            ]
          },
          "metadata": {
            "tags": []
          }
        }
      ]
    },
    {
      "cell_type": "markdown",
      "metadata": {
        "id": "GjSd7dprnBs4",
        "colab_type": "text"
      },
      "source": [
        "Sure enough, the mean is increidbly non-informative about what is going on in the data. We have collapsed all of our data into a single estimate, and lost of a lot of information doing so. This is what the distribution should look like if our hypothesis that it is normally distributed is correct."
      ]
    },
    {
      "cell_type": "code",
      "metadata": {
        "id": "7pciVCxeY_R9",
        "colab_type": "code",
        "outputId": "501f65a3-b12e-4ea2-a4b7-ced68ea587be",
        "colab": {
          "base_uri": "https://localhost:8080/",
          "height": 300
        }
      },
      "source": [
        "mu = np.mean(x)\n",
        "sigma = np.std(x)\n",
        "\n",
        "N = np.random.normal(mu,sigma, 1000)\n",
        "\n",
        "plt.hist(N , bins = 100)\n",
        "plt.ylabel('Frequency')\n",
        "plt.xlabel('Value')"
      ],
      "execution_count": 5,
      "outputs": [
        {
          "output_type": "execute_result",
          "data": {
            "text/plain": [
              "Text(0.5, 0, 'Value')"
            ]
          },
          "metadata": {
            "tags": []
          },
          "execution_count": 5
        },
        {
          "output_type": "display_data",
          "data": {
            "image/png": "[encoded data removed]",
            "text/plain": [
              "<Figure size 432x288 with 1 Axes>"
            ]
          },
          "metadata": {
            "tags": []
          }
        }
      ]
    }
  ]
}